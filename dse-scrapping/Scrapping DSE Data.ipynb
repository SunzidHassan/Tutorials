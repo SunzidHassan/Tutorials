{
 "cells": [
  {
   "cell_type": "code",
   "execution_count": 1,
   "metadata": {},
   "outputs": [],
   "source": [
    "import requests\n",
    "import pandas as pd\n",
    "from bs4 import BeautifulSoup\n",
    "import lxml\n"
   ]
  },
  {
   "cell_type": "code",
   "execution_count": 23,
   "metadata": {},
   "outputs": [
    {
     "data": {
      "text/plain": [
       "array(['ABBANK', 'BATBC'], dtype=object)"
      ]
     },
     "execution_count": 23,
     "metadata": {},
     "output_type": "execute_result"
    }
   ],
   "source": [
    "assets = pd.read_csv(\"stock_list.csv\", header=0).values[:,0]\n",
    "assets"
   ]
  },
  {
   "cell_type": "code",
   "execution_count": 24,
   "metadata": {},
   "outputs": [
    {
     "name": "stdout",
     "output_type": "stream",
     "text": [
      "https://www.dsebd.org/displayCompany.php?name=ABBANK\n"
     ]
    },
    {
     "name": "stderr",
     "output_type": "stream",
     "text": [
      "C:\\Users\\Evaly\\AppData\\Local\\Temp\\ipykernel_13680\\636023081.py:10: FutureWarning: The frame.append method is deprecated and will be removed from pandas in a future version. Use pandas.concat instead.\n",
      "  data = data.append({'symbol': each, \"Outstanding Share\": df.iloc[3,1]}, ignore_index=True)\n"
     ]
    },
    {
     "name": "stdout",
     "output_type": "stream",
     "text": [
      "https://www.dsebd.org/displayCompany.php?name=BATBC\n"
     ]
    },
    {
     "name": "stderr",
     "output_type": "stream",
     "text": [
      "C:\\Users\\Evaly\\AppData\\Local\\Temp\\ipykernel_13680\\636023081.py:10: FutureWarning: The frame.append method is deprecated and will be removed from pandas in a future version. Use pandas.concat instead.\n",
      "  data = data.append({'symbol': each, \"Outstanding Share\": df.iloc[3,1]}, ignore_index=True)\n"
     ]
    }
   ],
   "source": [
    "url = \"https://www.dsebd.org/displayCompany.php?name=\"\n",
    "data = pd.DataFrame(columns=['symbol', 'Outstanding Share'])\n",
    "for each in assets:\n",
    "    get_url = f\"{url}{each}\"\n",
    "    print(get_url)\n",
    "    html = requests.get(f\"{url}{each}\").content\n",
    "    soup = BeautifulSoup(html)\n",
    "    tables = soup.find_all('table', attrs={'id': \"company\"})[2]\n",
    "    df = pd.read_html(str(tables))[0]\n",
    "    data = data.append({'symbol': each, \"Outstanding Share\": df.iloc[3,1]}, ignore_index=True)\n",
    "    \n",
    "\n",
    "\n",
    "\n",
    "    "
   ]
  },
  {
   "cell_type": "code",
   "execution_count": 26,
   "metadata": {},
   "outputs": [
    {
     "data": {
      "text/html": [
       "<div>\n",
       "<style scoped>\n",
       "    .dataframe tbody tr th:only-of-type {\n",
       "        vertical-align: middle;\n",
       "    }\n",
       "\n",
       "    .dataframe tbody tr th {\n",
       "        vertical-align: top;\n",
       "    }\n",
       "\n",
       "    .dataframe thead th {\n",
       "        text-align: right;\n",
       "    }\n",
       "</style>\n",
       "<table border=\"1\" class=\"dataframe\">\n",
       "  <thead>\n",
       "    <tr style=\"text-align: right;\">\n",
       "      <th></th>\n",
       "      <th>0</th>\n",
       "      <th>1</th>\n",
       "      <th>2</th>\n",
       "      <th>3</th>\n",
       "    </tr>\n",
       "  </thead>\n",
       "  <tbody>\n",
       "    <tr>\n",
       "      <th>0</th>\n",
       "      <td>Authorized Capital (mn)</td>\n",
       "      <td>5400.00</td>\n",
       "      <td>Debut Trading Date</td>\n",
       "      <td>NaN</td>\n",
       "    </tr>\n",
       "    <tr>\n",
       "      <th>1</th>\n",
       "      <td>Paid-up Capital (mn)</td>\n",
       "      <td>5400.00</td>\n",
       "      <td>Type of Instrument</td>\n",
       "      <td>Equity</td>\n",
       "    </tr>\n",
       "    <tr>\n",
       "      <th>2</th>\n",
       "      <td>Face/par Value</td>\n",
       "      <td>10.0</td>\n",
       "      <td>Market Lot</td>\n",
       "      <td>1</td>\n",
       "    </tr>\n",
       "    <tr>\n",
       "      <th>3</th>\n",
       "      <td>Total No. of Outstanding Securities</td>\n",
       "      <td>540000000</td>\n",
       "      <td>Sector</td>\n",
       "      <td>Food &amp; Allied</td>\n",
       "    </tr>\n",
       "    <tr>\n",
       "      <th>4</th>\n",
       "      <td>Closing Price Graph: -Select Option- 1 month 3...</td>\n",
       "      <td>Closing Price Graph: -Select Option- 1 month 3...</td>\n",
       "      <td>Closing Price Graph: -Select Option- 1 month 3...</td>\n",
       "      <td>Closing Price Graph: -Select Option- 1 month 3...</td>\n",
       "    </tr>\n",
       "  </tbody>\n",
       "</table>\n",
       "</div>"
      ],
      "text/plain": [
       "                                                   0  \\\n",
       "0                            Authorized Capital (mn)   \n",
       "1                               Paid-up Capital (mn)   \n",
       "2                                     Face/par Value   \n",
       "3                Total No. of Outstanding Securities   \n",
       "4  Closing Price Graph: -Select Option- 1 month 3...   \n",
       "\n",
       "                                                   1  \\\n",
       "0                                            5400.00   \n",
       "1                                            5400.00   \n",
       "2                                               10.0   \n",
       "3                                          540000000   \n",
       "4  Closing Price Graph: -Select Option- 1 month 3...   \n",
       "\n",
       "                                                   2  \\\n",
       "0                                 Debut Trading Date   \n",
       "1                                 Type of Instrument   \n",
       "2                                         Market Lot   \n",
       "3                                             Sector   \n",
       "4  Closing Price Graph: -Select Option- 1 month 3...   \n",
       "\n",
       "                                                   3  \n",
       "0                                                NaN  \n",
       "1                                             Equity  \n",
       "2                                                  1  \n",
       "3                                      Food & Allied  \n",
       "4  Closing Price Graph: -Select Option- 1 month 3...  "
      ]
     },
     "execution_count": 26,
     "metadata": {},
     "output_type": "execute_result"
    }
   ],
   "source": [
    "df"
   ]
  },
  {
   "cell_type": "code",
   "execution_count": 4,
   "metadata": {},
   "outputs": [],
   "source": [
    "tables = soup.find_all('table', attrs={'id': \"company\"})"
   ]
  },
  {
   "cell_type": "code",
   "execution_count": 6,
   "metadata": {},
   "outputs": [],
   "source": [
    "tab = tables[2]\n",
    "df = pd.read_html(str(tab))"
   ]
  },
  {
   "cell_type": "code",
   "execution_count": 10,
   "metadata": {},
   "outputs": [
    {
     "data": {
      "text/html": [
       "<div>\n",
       "<style scoped>\n",
       "    .dataframe tbody tr th:only-of-type {\n",
       "        vertical-align: middle;\n",
       "    }\n",
       "\n",
       "    .dataframe tbody tr th {\n",
       "        vertical-align: top;\n",
       "    }\n",
       "\n",
       "    .dataframe thead th {\n",
       "        text-align: right;\n",
       "    }\n",
       "</style>\n",
       "<table border=\"1\" class=\"dataframe\">\n",
       "  <thead>\n",
       "    <tr style=\"text-align: right;\">\n",
       "      <th></th>\n",
       "      <th>0</th>\n",
       "      <th>1</th>\n",
       "      <th>2</th>\n",
       "      <th>3</th>\n",
       "    </tr>\n",
       "  </thead>\n",
       "  <tbody>\n",
       "    <tr>\n",
       "      <th>0</th>\n",
       "      <td>Authorized Capital (mn)</td>\n",
       "      <td>15000.00</td>\n",
       "      <td>Debut Trading Date</td>\n",
       "      <td>NaN</td>\n",
       "    </tr>\n",
       "    <tr>\n",
       "      <th>1</th>\n",
       "      <td>Paid-up Capital (mn)</td>\n",
       "      <td>8358.39</td>\n",
       "      <td>Type of Instrument</td>\n",
       "      <td>Equity</td>\n",
       "    </tr>\n",
       "    <tr>\n",
       "      <th>2</th>\n",
       "      <td>Face/par Value</td>\n",
       "      <td>10.0</td>\n",
       "      <td>Market Lot</td>\n",
       "      <td>1</td>\n",
       "    </tr>\n",
       "    <tr>\n",
       "      <th>3</th>\n",
       "      <td>Total No. of Outstanding Securities</td>\n",
       "      <td>835838671</td>\n",
       "      <td>Sector</td>\n",
       "      <td>Bank</td>\n",
       "    </tr>\n",
       "    <tr>\n",
       "      <th>4</th>\n",
       "      <td>Closing Price Graph: -Select Option- 1 month 3...</td>\n",
       "      <td>Closing Price Graph: -Select Option- 1 month 3...</td>\n",
       "      <td>Closing Price Graph: -Select Option- 1 month 3...</td>\n",
       "      <td>Closing Price Graph: -Select Option- 1 month 3...</td>\n",
       "    </tr>\n",
       "  </tbody>\n",
       "</table>\n",
       "</div>"
      ],
      "text/plain": [
       "                                                   0  \\\n",
       "0                            Authorized Capital (mn)   \n",
       "1                               Paid-up Capital (mn)   \n",
       "2                                     Face/par Value   \n",
       "3                Total No. of Outstanding Securities   \n",
       "4  Closing Price Graph: -Select Option- 1 month 3...   \n",
       "\n",
       "                                                   1  \\\n",
       "0                                           15000.00   \n",
       "1                                            8358.39   \n",
       "2                                               10.0   \n",
       "3                                          835838671   \n",
       "4  Closing Price Graph: -Select Option- 1 month 3...   \n",
       "\n",
       "                                                   2  \\\n",
       "0                                 Debut Trading Date   \n",
       "1                                 Type of Instrument   \n",
       "2                                         Market Lot   \n",
       "3                                             Sector   \n",
       "4  Closing Price Graph: -Select Option- 1 month 3...   \n",
       "\n",
       "                                                   3  \n",
       "0                                                NaN  \n",
       "1                                             Equity  \n",
       "2                                                  1  \n",
       "3                                               Bank  \n",
       "4  Closing Price Graph: -Select Option- 1 month 3...  "
      ]
     },
     "execution_count": 10,
     "metadata": {},
     "output_type": "execute_result"
    }
   ],
   "source": [
    "df[0]"
   ]
  },
  {
   "cell_type": "code",
   "execution_count": null,
   "metadata": {},
   "outputs": [],
   "source": []
  }
 ],
 "metadata": {
  "interpreter": {
   "hash": "67f1530f64a2bd3f5d16df11e67bb2a1b628ff8da010437bc6d38a318be06f56"
  },
  "kernelspec": {
   "display_name": "Python 3.10.2 64-bit",
   "language": "python",
   "name": "python3"
  },
  "language_info": {
   "codemirror_mode": {
    "name": "ipython",
    "version": 3
   },
   "file_extension": ".py",
   "mimetype": "text/x-python",
   "name": "python",
   "nbconvert_exporter": "python",
   "pygments_lexer": "ipython3",
   "version": "3.9.7"
  },
  "orig_nbformat": 4
 },
 "nbformat": 4,
 "nbformat_minor": 2
}
