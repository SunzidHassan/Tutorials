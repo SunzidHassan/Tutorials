{
  "cells": [
    {
      "cell_type": "markdown",
      "metadata": {
        "colab_type": "text",
        "id": "view-in-github"
      },
      "source": [
        "<a href=\"https://colab.research.google.com/github/SunzidHassan/Tutorials/blob/main/Python.ipynb\" target=\"_parent\"><img src=\"https://colab.research.google.com/assets/colab-badge.svg\" alt=\"Open In Colab\"/></a>"
      ]
    },
    {
      "cell_type": "code",
      "execution_count": null,
      "metadata": {
        "id": "UabutXxVMew7"
      },
      "outputs": [],
      "source": []
    },
    {
      "cell_type": "markdown",
      "metadata": {
        "id": "rjslfOhSe1-Y"
      },
      "source": [
        "# Py4e Course"
      ]
    },
    {
      "cell_type": "markdown",
      "metadata": {
        "id": "hSdu2xzJs6kZ"
      },
      "source": [
        "**Chapter 4: Functions**\n",
        "\n",
        "Function: DRY - Don't repeat yourself"
      ]
    },
    {
      "cell_type": "code",
      "execution_count": null,
      "metadata": {
        "id": "CeZKX6WrtCaX"
      },
      "outputs": [],
      "source": [
        "\"\"\"\n",
        "Write a program to prompt the user for hours and rate per hour using input to compute gross pay.\n",
        "Pay should be the normal rate for hours up to 40 and time-and-a-half for the hourly rate for all hours worked above 40 hours.\n",
        "Put the logic to do the computation of pay in a function called computepay() and use the function to do the computation. The function should return a value.\n",
        "Use 45 hours and a rate of 10.50 per hour to test the program (the pay should be 498.75).\n",
        "You should use input to read a string and float() to convert the string to a number.\n",
        "Do not worry about error checking the user input unless you want to - you can assume the user types numbers properly.\n",
        "Do not name your variable sum or use the sum() function.\n",
        "\"\"\"\n",
        "\n",
        "def computepay(h,r):\n",
        "    if hr < 41:\n",
        "        p = h*r\n",
        "        return p\n",
        "    else:\n",
        "        p = (40 * r) + ((h-40) * r * 1.5)\n",
        "        return p\n",
        "\n",
        "hr = float(input(\"Enter Hours:\"))\n",
        "\n",
        "rt = float(input(\"Enter Rate:\"))\n",
        "\n",
        "p = computepay(hr,rt)\n",
        "\n",
        "print(\"Pay\",p)"
      ]
    },
    {
      "cell_type": "markdown",
      "metadata": {
        "id": "5y_Cks4ONRHK"
      },
      "source": [
        "**Chapter 7: Files**"
      ]
    },
    {
      "cell_type": "code",
      "execution_count": null,
      "metadata": {
        "id": "WpRSZ_y7NYAF"
      },
      "outputs": [],
      "source": [
        "\"\"\"\n",
        "> open(filename, mode) creates a connection with file for python\n",
        "\n",
        "> '\\n' is the newline character\n",
        "\n",
        "> python reads a file line by line with for loop\n",
        "file = open('file.txt')\n",
        "for lines in file:\n",
        "  print(lines)\n",
        "\n",
        "file.read() reads the entire file as a long string, with \\n as new line characters.\n",
        "\n",
        "> .starts with checks if a line starts with word of interest\n",
        "file = open('file.txt')\n",
        "for lines in file:\n",
        "  if lines.startswith('word of interest'):\n",
        "    print('got you')\n",
        "\n",
        "or\n",
        "\n",
        "file = open('file.txt')\n",
        "for lines in file:\n",
        "  if not lines.startswith('word of interest'): continue\n",
        "  print('got you')\n",
        "\n",
        "> prompt user for right file name with try/except. If try not works, except prints a message and quits.\n",
        "\n",
        "file = input('Enter the file name: ')\n",
        "try:\n",
        "  file = open(file)\n",
        "except:\n",
        "  print('File can not be opened: ', file)\n",
        "  quit()\n",
        "methods\n",
        "\n",
        "\"\"\""
      ]
    },
    {
      "cell_type": "markdown",
      "metadata": {
        "id": "MJVYpK9cRd2p"
      },
      "source": [
        "**Chapter 8: Data structures**"
      ]
    },
    {
      "cell_type": "code",
      "execution_count": null,
      "metadata": {
        "id": "2aZTmeM_RiF_"
      },
      "outputs": [],
      "source": [
        "\"\"\"\n",
        "> Lists are collection of data (anything in square brackets)\n",
        "friends = ['Ador', 'Helal', 'Abhi']\n",
        "\n",
        "> we can loop through each member of list with for loop\n",
        "for friend in friends:\n",
        "  print(friend)\n",
        "\n",
        "> friend[1] is the second element of friend list\n",
        "\n",
        "Built in functions\n",
        "> list.lower() makes the a copy of the list where words lowecase\n",
        "> len(list) gives length of the list\n",
        "> range(list) returns list of 0 to number of elements less one of the list\n",
        "> concatone lists with'+'\n",
        "> slice list with list[1:3] - meaning take second element to 3rd element (3rd is the 4th element, which isn't included)\n",
        "> create blank list with list()\n",
        "> add element at last .append('element')\n",
        "> 'element' in list (True/False)\n",
        "> list.sort() - sorts alphabetically\n",
        "> sum(list) - adds up numbers of list\n",
        "while Ture:\n",
        "  inp = input(\"Engter a number: \")\n",
        "  if imp == 'done': break\n",
        "  value = float(inp)\n",
        "  numlist.append(value)\n",
        "average = sum(numlist)/len(numlist)\n",
        "print(\"Average: \", average)\n",
        "\n",
        "> abc = 'with three words'\n",
        "list = abc.split()\n",
        "list = ['with', 'three', 'words']\n",
        "\n",
        "abc.split(',') - for comma seperated words\n",
        "\n",
        ".rstrip() deletes whitespace after word\n",
        "\n",
        "\"\"\""
      ]
    },
    {
      "cell_type": "code",
      "execution_count": null,
      "metadata": {
        "id": "oBhrhg3eVaJy"
      },
      "outputs": [],
      "source": [
        "# Data structure assignment\n",
        "\"\"\"\n",
        "Open the file romeo.txt and read it line by line. For each line, split the line into a list of words using the split() method. The program should build a list of words. For each word on each line check to see if the word is already in the list and if not append it to the list. When the program completes, sort and print the resulting words in alphabetical order.\n",
        "You can download the sample data at http://www.py4e.com/code3/romeo.txt\n",
        "\"\"\"\n",
        "fname = input(\"Enter file name: \")\n",
        "fh = open(fname)\n",
        "lst = list()\n",
        "for line in fh:\n",
        "    wordlist = line.split()\n",
        "    for word in wordlist:\n",
        "        if word not in lst: lst.append(word)\n",
        "lst.sort()\n",
        "print(lst)\n",
        "\n",
        "\"\"\"\n",
        "Open the file mbox-short.txt and read it line by line. When you find a line that starts with 'From ' like the following line:\n",
        "From stephen.marquard@uct.ac.za Sat Jan  5 09:14:16 2008\n",
        "You will parse the From line using split() and print out the second word in the line (i.e. the entire address of the person who sent the message). Then print out a count at the end.\n",
        "Hint: make sure not to include the lines that start with 'From:'.\n",
        "\n",
        "You can download the sample data at http://www.py4e.com/code3/mbox-short.txt\n",
        "\"\"\"\n",
        "fname = input(\"Enter file name: \")\n",
        "if len(fname) < 1 : fname = \"mbox-short.txt\"\n",
        "\n",
        "fh = open(fname)\n",
        "count = 0\n",
        "address = list()\n",
        "\n",
        "for lines in fh:\n",
        "    if lines.startswith('From '):\n",
        "        words = lines.split()\n",
        "        address.append(words[1])\n",
        "        count += 1\n",
        "for addresses in address:\n",
        "    print(addresses)\n",
        "print(\"There were\", count, \"lines in the file with From as the first word\")"
      ]
    },
    {
      "cell_type": "markdown",
      "metadata": {
        "id": "ut0xjEED_5R7"
      },
      "source": [
        "**Chapter 9: Dictionaries**"
      ]
    },
    {
      "cell_type": "code",
      "execution_count": null,
      "metadata": {
        "id": "UtZgYa1wAAsY"
      },
      "outputs": [],
      "source": [
        "\"\"\"\n",
        "While lists are ordered elements, dictionary is like a bag full of elements with keys\n",
        "Everything in a dictionary has a 'value' or 'key'\n",
        "we can change values, delete them using keys\n",
        "\"\"\"\n",
        "#creating dictionaries\n",
        "purse = dict()\n",
        "purse['money'] = 12 # here, the element is 12, key is 'money'\n",
        "purse['candy'] = 3 # we add elements with new keys\n",
        "\n",
        "print(purse)\n",
        "\n",
        "bag = {'a': 1, 'b': 2, 'c': 3}\n",
        "bag['d'] = 4\n",
        "print(bag)\n",
        "\n",
        "# counting with dictionaries\n",
        "counter = dict()\n",
        "counter['john'] = 1\n",
        "counter['von'] = 1\n",
        "print(counter)\n",
        "counter['john'] += 1\n",
        "print(counter)\n",
        "\n",
        "\"\"\"\n",
        "# get method: adding new names while counting\n",
        "\n",
        "counts = dict()\n",
        "names = ['a', 'b', 'c', 'd']\n",
        "for name in names:\n",
        "  counts[name] = counts.get(name, 0) + 1 #0 is the default value assigned to a new name\n",
        "print(counts)\n",
        "\n",
        "# what get does\n",
        "if name not in names:\n",
        "  counts[name] = 1\n",
        "else:\n",
        "  counts[name] += 1\n",
        "\n",
        "# Loops in dictionary\n",
        "\n",
        "counts = {'a': 1, 'b': 2, 'c': 3}\n",
        "for key in counts:\n",
        "  print(key, counts[key])\n",
        "\n",
        "# retrieving keys and values as list\n",
        "counts = {'a': 1, 'b': 2, 'c': 3}\n",
        "counts.keys()\n",
        "counts.values()\n",
        "counts.items() # returns a list of key-value pairs or tuples\n",
        "\n",
        "for k, v in counts.items:\n",
        "  print(keys, values)\n",
        "\n",
        "# code for most common word in a paragraph\n",
        "\n",
        "file = input('Enter file: ')\n",
        "handle = open(file)\n",
        "counts = dict()\n",
        "\n",
        "for line in handle:\n",
        "  words = line.split()\n",
        "  for word in words:\n",
        "    counts[word] = counts.get(word, 0) + 1\n",
        "\n",
        "bigcount = None\n",
        "bigword = None\n",
        "for k, v in counts.items():\n",
        "  if bigcount is None or count > bigcount:\n",
        "    bigword = k\n",
        "    bigcount = v\n",
        "print(bigword, bigcount)\n",
        "\n",
        "\"\"\"\n"
      ]
    },
    {
      "cell_type": "code",
      "execution_count": null,
      "metadata": {
        "id": "1p6CFFbRE93T"
      },
      "outputs": [],
      "source": [
        "#Dictionary assignment: Write a program to read through the mbox-short.txt and figure out who has sent the greatest number of mail messages.\n",
        "\n",
        "name = input(\"Enter file:\")\n",
        "if len(name) < 1 : name = \"mbox-short.txt\"\n",
        "handle = open(name)\n",
        "adrslist = list()\n",
        "\n",
        "# The program looks for 'From ' lines and takes the second word of those lines as the person who sent the mail.\n",
        "for lines in handle:\n",
        "    if lines.startswith('From '):\n",
        "        parts = lines.split()\n",
        "        adrslist.append(parts[1])\n",
        "        \n",
        "#The program creates a Python dictionary that maps the sender's mail address to a count of the number of times they appear in the file.\n",
        "adrsdict = dict()\n",
        "for addresses in adrslist:\n",
        "    adrsdict[addresses] = adrsdict.get(addresses, 0) + 1\n",
        "\n",
        "#After the dictionary is produced, the program reads through the dictionary using a maximum loop to find the most prolific committer.\n",
        "mostmail = None\n",
        "mostsender = None\n",
        "for adrs, count in adrsdict.items():\n",
        "    if mostmail is None or count > mostmail:\n",
        "        mostsender = adrs\n",
        "        mostmail = count\n",
        "print(mostsender, mostmail)"
      ]
    },
    {
      "cell_type": "markdown",
      "metadata": {
        "id": "PceCvTQcPPDC"
      },
      "source": [
        "**Chapter 10: Tuples**"
      ]
    },
    {
      "cell_type": "code",
      "execution_count": null,
      "metadata": {
        "id": "tnpFOCr3PWpR"
      },
      "outputs": [],
      "source": [
        "#Tuples are like lists, initiated with parenthesis instead of square brackets\n",
        "\n",
        "t = ('a', 'b', 'c')\n",
        "print(t)\n",
        "print(t[2])\n",
        "\n",
        "#unlike lists, tuples are immutable, can't be sorted. Because of the restriction, tuples are more efficient\n",
        "\n",
        "# simultaneous assignment\n",
        "(x, y) = (4, 'john')\n",
        "print(x)\n",
        "print(y)\n",
        "\n",
        "#tuples comparisons starts from left most elements, and move to compare next item if they're same\n",
        "# we can create and sort key-value pair tuples of dictionary, and sort them in terms of keys (keys are unique, values need not be)\n",
        "d = {'a': 1, 'b': 3, 'c': 2}\n",
        "t = sorted(d.items())\n",
        "for k, v in sorted(d.items()):\n",
        "  print(k, v)\n",
        "\n",
        "# in order to sort values, we need to create new tuples with values, key\n",
        "\n",
        "tmp = list()\n",
        "for k, v in d.items():\n",
        "  tmp.append((v, k))\n",
        "print(tmp)\n",
        "\n",
        "tmp = sorted(tmp, reverse=True)\n",
        "print(tmp)\n",
        "\n",
        "#10 most common words in a paragraph\n",
        "\"\"\"\n",
        "handel = open('file.txt')\n",
        "counts = dict()\n",
        "\n",
        "for line in handel:\n",
        "  words = line.split()\n",
        "  for word in words:\n",
        "    counts[word] = counts.get(word, 0) + 1\n",
        "\n",
        "list = list()\n",
        "for k, v in counts.items():\n",
        "  newtup = (v, k)\n",
        "  list.append(newtup)\n",
        "\n",
        "list = sorted(list, reverse=True)\n",
        "\n",
        "for v, k in list[:10]:\n",
        "  print(k, v)\n",
        "\n",
        "\"\"\"\n",
        "\n",
        "#shorter sorting\n",
        "\"\"\"\n",
        "d = {'a': 1, 'b': 3, 'c': 2}\n",
        "print(sorted([(v, k) for k, v in d.items()]))\n",
        "\n",
        "\"\"\""
      ]
    },
    {
      "cell_type": "code",
      "execution_count": null,
      "metadata": {
        "id": "QT69e1f6gnIw"
      },
      "outputs": [],
      "source": [
        "#Tuple assignment\n",
        "\"\"\"\n",
        "Write a program to read through the mbox-short.txt and figure out the distribution by hour of the day for each of the messages.\n",
        "You can pull the hour out from the 'From ' line by finding the time and then splitting the string a second time using a colon.\n",
        "From stephen.marquard@uct.ac.za Sat Jan  5 09:14:16 2008\n",
        "Once you have accumulated the counts for each hour, print out the counts, sorted by hour as shown below.\n",
        "\n",
        "name = input(\"Enter file:\")\n",
        "if len(name) < 1 : name = \"mbox-short.txt\"\n",
        "handle = open(name)\n",
        "\n",
        "hours= list()\n",
        "\n",
        "for line in handle:\n",
        "    if line.startswith('From '):\n",
        "        l1 = line.split()\n",
        "        time = l1[5]\n",
        "        l2 = time.split(':')\n",
        "        hours.append(l2[0])\n",
        "\n",
        "hcount = dict()\n",
        "for hour in hours:\n",
        "\n",
        "\n",
        "    hcount[hour] = hcount.get(hour, 0) + 1\n",
        "\n",
        "for h, c in sorted(hcount.items()):\n",
        "    print(h, c)\n",
        "\n",
        "\"\"\""
      ]
    },
    {
      "cell_type": "markdown",
      "metadata": {
        "id": "6liDozrG4z0x"
      },
      "source": [
        "**Chapter: ? Object oriented programming**\n",
        "\n",
        "A lego block of function/code (method) and data (attribute) that does a particular thing. Many such lego blocks can be used to make something useful.\n",
        "\n",
        "Class is the template that makes class instances or objects.\n",
        "\n",
        "For example, list is an object (list class can be used to make lists). And list.append() is a class method - that can be used to add element in list."
      ]
    },
    {
      "cell_type": "code",
      "execution_count": null,
      "metadata": {
        "id": "TXii0BaLsWvt"
      },
      "outputs": [],
      "source": [
        "\"\"\"\n",
        "Class:\n",
        "\t• Template for objects/instances of class (organized code/method and data/attributes) that are reusable\n",
        "\t• For example, employees of a company has name, email address, salary etc. Each employee are objects, and we can use a class as template to generate the objects.\n",
        "\"\"\"\n",
        "\n",
        "class Employee:\n",
        "\t\n",
        "\t#this is class variable, which is same for all instances\n",
        "\traise_amoutn = 1.04\n",
        "\t\n",
        "\t# this is the main class attributes\n",
        "\tdef __init__(self, first, last, pay):\n",
        "\t\tself.first = first\n",
        "\t\tself.last = last\n",
        "\t\tself.pay = pay\n",
        "\t\tself.email = first + '.' + last + '@company.com'\n",
        "\t\t\n",
        "\t#we can add methods in class\n",
        "\tdef fullname(self):\n",
        "\t\treturn '{} {}'.format(self.first, self.last)\n",
        "\t\t\n",
        "\tdef apply_raise(self):\n",
        "\t\tself.pay = int(self.pay * self.raise_amount)\n",
        "\t\t# incase of self.class_varialbe, we can change the variable for different instances. But if we had used Employee.raise_amount, then we wont' be able to do that.\n",
        "\n",
        "# The two employees are two instances of the class.\n",
        "emp1 = Employee('sunzid', 'hassan', 5000)\n",
        "emp2 = Employee('sarzil', 'hassan', 6000)\n",
        "\n",
        "print(Employee.fullname(emp1))\n",
        "print(emp1.fullname())\n",
        "\n",
        "\"\"\"\n",
        "A (child) class can inherit capabilities of a previous (parent) class, and build on top of it\n",
        "A parent class can have different sub classes\n",
        "\n",
        "class Parent:\n",
        "\tdef __init__(self, age)\n",
        "\tdo this\n",
        "\n",
        "class Child(Parent):\n",
        "\t# no def __init__(self), uses parents one\n",
        "\tcan do everything as parent\n",
        "\talso, can do this\n",
        "\n",
        "o = child(\"Omi\")\n",
        "o.Parent()\n",
        "O.Chld()\n",
        "\"\"\"\n",
        "\n"
      ]
    },
    {
      "cell_type": "markdown",
      "metadata": {
        "id": "rUiFN3kvroFD"
      },
      "source": [
        "**Chapter 11: Regular expressions**"
      ]
    },
    {
      "cell_type": "code",
      "execution_count": null,
      "metadata": {
        "id": "8rZXodHXs6g5"
      },
      "outputs": [],
      "source": [
        "\"\"\"\n",
        "^\tMatches the beginning of a line\n",
        "$\tMatches the end of the line\n",
        ".\tMatches any character\n",
        "\\s\tMatches whitespace\n",
        "\\S\tMatches any non-whitespace character\n",
        "*\tRepeats a character zero or more times\n",
        "*?\tRepeats a character zero or more times (non-greedy)\n",
        "+\tRepeats a character one or more times\n",
        "+?\tRepeats a character one or more times (non-greedy)\n",
        "[aeiou]\tMatches a single character in the listed set\n",
        "[^XYZ]\tMatches a single character not in the listed set\n",
        "[a-z0-9]\tThe set of characters can include a range\n",
        "(\tIndicates where string extraction is to start\n",
        ")\tIndicates where string extraction is to end\n",
        "\n",
        "fhand = open('file.txt')\n",
        "for line in fhand:\n",
        "  line = line.rstrip()\n",
        "  if line.startswith('From '):\n",
        "    print(lines)\n",
        "\n",
        "import re\n",
        "fhand = open('file.txt')\n",
        "for line in fhand:\n",
        "  line = line.rstrip()\n",
        "  if re.search('^From:', line): #^means the next character needs to be the first character of the line\n",
        "    print(line)\n",
        "\n",
        "^X.*: '.' means any character, '*' means 0 or more characters - so the entire expression means I'm looking for lines that starts with X, and then has any number of characters, then a ':'\n",
        "^X-\\S+: I'm looking for lines that starts with X-, then more than one '+' non blank characters '\\S', then ':'\n",
        "\n",
        "import re\n",
        "x = 'My 2 favorite numbers are 19 and 42\n",
        "y = re.findall('[0-9]+', x) # '[0-9]' this is a single character that searches for digists, '+' multiple digits\n",
        "print(y) # I'll get back a list: ['2', '19', '42']\n",
        "z = re.findall('[AEIOU]+', x) # find more than one uppercase vowels\n",
        "print(z) # I'll get back empty list\n",
        "\n",
        "? is added to make re not greedy\n",
        "\n",
        "# \\s+@\\s+ : find more than one none blank char, then @, then more than one non blank char - email address\n",
        "\n",
        "# re.findall('^From (\\s+@\\s+)', x): look for 'From email-address, but return just the email-address inside the parenthesis\n",
        "\n",
        "# we'd manage to find @address with double split, with re, it's '@([^ ]*)' - * for many, [^ ] means not starts with blank\n",
        "\n",
        "# '^From .*@([^ ]*)' - Start with From-space, then any number of character up to @, then extract all characters up to space\n",
        "\n",
        "# \\$ means I'm looking for $ in string, not re $\n",
        "\n",
        "import re\n",
        "hand = open('text.txt')\n",
        "numlist = list()\n",
        "for line in hand:\n",
        "  line = line.rstrip()\n",
        "  stuff = re.findall('X-DSPAM-Confidence: ([0-9.]+)', line) # extract all digit and '.'\n",
        "  if len(stuff) != 1: continue # if there are more than 1 numbers, skip the line\n",
        "  num = float(stuff[0])\n",
        "  numlist.append(num)\n",
        "print('Maximum: ', max(numlist))\n",
        "\n",
        "\"\"\""
      ]
    },
    {
      "cell_type": "code",
      "execution_count": null,
      "metadata": {
        "id": "7-3Pv1HWeliK"
      },
      "outputs": [],
      "source": [
        "#Regular expression assignment\n",
        "\n",
        "\"\"\"\n",
        "# In this assignment you will read through and parse a file with text and numbers. You will extract all the numbers in the file and compute the sum of the numbers.\n",
        "\n",
        "import re\n",
        "\n",
        "hand = open('regex_sum_42.txt')\n",
        "numlist = list()\n",
        "for line in hand:\n",
        "    num = re.findall('[0-9]+', line)\n",
        "    if len(num) == 0: continue\n",
        "    for number in num:\n",
        "        numlist.append(int(number))\n",
        "\n",
        "print(sum(numlist))\n",
        "\n",
        "\"\"\""
      ]
    },
    {
      "cell_type": "markdown",
      "metadata": {
        "id": "4VR6Mp2Isa5I"
      },
      "source": [
        "**Chapter 12: Networked Tech**\n",
        "\n",
        "Computers connect to internet with ports - ports for connecting to web, email etc."
      ]
    },
    {
      "cell_type": "code",
      "execution_count": null,
      "metadata": {
        "id": "7VuXfknIwYxR"
      },
      "outputs": [],
      "source": [
        "\"\"\"\n",
        "# Port and socket is used to connect to site (i.e. 80) or email etc\n",
        "# HTTP is protocol or set of rules through which browser takes data from website\n",
        "# After setting connection, if you send GET request, server will send back header(metadata), and the contents. Then we receive and decode the data\n",
        "\n",
        "\"\"\"\n",
        "import socket\n",
        "mysock = socket.socket(socket.AF_INET, socket.SOCK_STREAM) # we're preparing to connect - this returns an object\n",
        "mysock.connect(('data.pr4e.org', 80)) # we're actually connecting - in that object, we want the host, and the port 80 to which we want to connect\n",
        "cmd = 'GET http://data.pr4e.org/romeo.txt HTTP/1.0\\r\\n\\r\\n'.encode() # .encode() converts Unicode to UTFA\n",
        "mysock.send(cmd)\n",
        "\n",
        "while True:\n",
        "  data = mysock.recv(512) # we'll receive up to 512 characters at a time\n",
        "  if (len(data) < 1): break # break if data length is less than 1\n",
        "  print(data.decode()) # decode from UTFA to unicode\n",
        "mysock.close()\n",
        "\n"
      ]
    },
    {
      "cell_type": "markdown",
      "metadata": {},
      "source": [
        "# Python for Data Science"
      ]
    },
    {
      "cell_type": "markdown",
      "metadata": {},
      "source": [
        "## Operators\n",
        "\n",
        "% remainder  \n",
        "** to the power  \n",
        "// intefer value of divisor  \n",
        "\n",
        "_ automatically store the last unassigned variable\n",
        "\n",
        "%whos returns type of variable\n",
        "\n",
        "# multiple assignment and automation type assignment\n",
        "a,b,c,d,e,f = 3,5.5,6.0,-4,2+4j,\"hello\"\n",
        "\n",
        "## Bool\n",
        "\n",
        "T and T is T\n",
        "T and F is F\n",
        "F and T is F\n",
        "F and F is F\n",
        "\n",
        "T or T is T\n",
        "T or F is T\n",
        "F or T is T\n",
        "F or F is F\n",
        "\n",
        "== True, if is equal\n",
        "!= True, if is not equal\n",
        "<= less than or equal\n",
        ">= greater than or equal\n",
        "\n",
        "## useful functions\n",
        "round(4.6) is 5\n",
        "round(4.3) is 4\n",
        "round(4.111,2) is 4.11\n",
        "\n",
        "divmod(x,y) outputs the quotient and the remainder in a tuple\n",
        "divmod(27,5) is (5,2)\n",
        "\n",
        "g = divmod(32,9)\n",
        "g[0] #first element of g\n",
        "\n",
        "isinstance(1,(int,float)) is (True, False)\n",
        "\n",
        "x = input(\"Enter a number:\") #prompts user for an input, default type is 'str'\n",
        "x = int(x) #convert value of x to integer\n",
        "\n",
        "or,\n",
        "x = int(input(\"Enter a number:\"))\n",
        "\n",
        "pow? will return the documentation of pow function\n",
        "pow?? will return more information\n",
        "help(pow) will also return information\n",
        "\n"
      ]
    },
    {
      "cell_type": "markdown",
      "metadata": {},
      "source": [
        "# Python for Data Science Specialization"
      ]
    },
    {
      "cell_type": "markdown",
      "metadata": {},
      "source": [
        "## Python Programming\n"
      ]
    },
    {
      "cell_type": "code",
      "execution_count": null,
      "metadata": {},
      "outputs": [],
      "source": [
        "#Function with default input\n",
        "def add_numbers(x, y, z = None):\n",
        "    if(z == None):\n",
        "        return x+y\n",
        "    else:\n",
        "        return x+y+z\n",
        "\n",
        "print(add_numbers(1, 2))"
      ]
    },
    {
      "cell_type": "code",
      "execution_count": null,
      "metadata": {},
      "outputs": [],
      "source": [
        "##Data Types\n",
        "#Tuples: immutable\n",
        "\n",
        "x = (1,'a',2,'b')\n",
        "type(x)"
      ]
    },
    {
      "cell_type": "code",
      "execution_count": null,
      "metadata": {},
      "outputs": [],
      "source": [
        "#lists: mutable - we can change length, items, values\n",
        "x = [1, 'a', 2, 'b']\n",
        "\n",
        "x.append(2.2) #add vlaue at last\n",
        "\n",
        "#Printing elements\n",
        "for item in x:\n",
        "    print(item)\n",
        "\n",
        "#Printing upto a specific position\n",
        "i = 0\n",
        "while(i != len(x)):\n",
        "    print(x[i])\n",
        "    i = i+1\n",
        "\n",
        "# plus sign concatenates lists\n",
        "x = x + [5, 6]\n",
        "\n",
        "# '*' sign repeats elements\n",
        "[1] * 3\n",
        "\n",
        "# Check if the list has a specific element\n",
        "1 in [1, 2, 3]"
      ]
    },
    {
      "cell_type": "code",
      "execution_count": null,
      "metadata": {},
      "outputs": [],
      "source": [
        "##Slicing\n",
        "\n",
        "#with square brackets\n",
        "\n",
        "x = 'This is a string'\n",
        "print(x[0]) #print first element\n",
        "print(x[0:1]) #print first two elements\n",
        "print(x[-1]) #print last element\n",
        "print(x[-4:-2]) #print from backwards\n",
        "print(x[:3]) #print from first to position 4\n",
        "print(x[3:]) #print from the 4th character\n",
        "\n",
        "\n",
        "firstName = 'Sunzid'\n",
        "lastName = 'Hassan'\n",
        "\n",
        "print(firstName + ' '+ lastName)\n",
        "print('Sunzid' in firstName)"
      ]
    },
    {
      "cell_type": "code",
      "execution_count": null,
      "metadata": {},
      "outputs": [],
      "source": [
        "# Split\n",
        "\n",
        "firstName = 'M Sunzid Hassan'.split(' ')[1]\n",
        "lastName = 'M Sunzid Hassan'.split(' ')[-1]\n",
        "print(firstName)\n",
        "print(lastName)"
      ]
    },
    {
      "cell_type": "code",
      "execution_count": null,
      "metadata": {},
      "outputs": [],
      "source": [
        "##Dictionaries: collection of items without order, so we need to label them\n",
        "\n",
        "x = {'Sunzid Hassan': 'sunzidhassan@gmail.com', 'Slothman': 'ratmanagain@gmail.com'}\n",
        "x['Sunzid Hassan']\n",
        "\n",
        "x['live'] = 'sunzidhassan@live.com'\n",
        "x['live']\n",
        "\n",
        "for name in x:\n",
        "    print(x[name])\n",
        "\n",
        "for email in x.values():\n",
        "    print(email)\n",
        "\n",
        "for name, email in x.items():\n",
        "    print(name)\n",
        "    print(email)\n"
      ]
    },
    {
      "cell_type": "code",
      "execution_count": null,
      "metadata": {},
      "outputs": [],
      "source": [
        "# unpack tuple items in variables\n",
        "\n",
        "x = ('Sunzid', 'Hassan', 'sunzidhassan@gmail.com')\n",
        "fname, lname, email = x\n",
        "\n",
        "print(type(x))\n",
        "print(fname)\n",
        "print(lname)\n",
        "print(type(fname))"
      ]
    },
    {
      "cell_type": "code",
      "execution_count": null,
      "metadata": {},
      "outputs": [],
      "source": [
        "## dictionary\n",
        "\n",
        "# #make a sentence from data in dictionary\n",
        "sales_record = {'price': 3.24,\n",
        "                'num_items' : 4,\n",
        "                'person': 'Chris'}\n",
        "\n",
        "sales_statement = '{} bought {} item(s) at a price of {} each for a total of {}'\n",
        "\n",
        "print(sales_statement.format(sales_record['person'],\n",
        "                                        sales_record['num_items'],\n",
        "                                        sales_record['price'],\n",
        "                                        sales_record['num_items']*sales_record['price']))"
      ]
    },
    {
      "cell_type": "code",
      "execution_count": null,
      "metadata": {},
      "outputs": [],
      "source": [
        "#Reading and writing CSV files\n",
        "\n",
        "import csv\n",
        "\n",
        "#set precision to 2\n",
        "%precision 2\n",
        "\n",
        "#open a csv file in directory\n",
        "with open('mpg.csv') as csvfile:\n",
        "    mpg = list(csv.DictReader(csvfile))\n",
        "\n",
        "#print first 3 rows\n",
        "mpg[:3]\n",
        "\n",
        "#number of rows\n",
        "len(mpg)\n",
        "\n",
        "#look at column names\n",
        "mpg[0].keys()\n",
        "\n",
        "#average operation\n",
        "sum(float(d['cty']) for d in mpg) / len(mpg) # we need to convert str data in dictionary to float for mathematical operation\n",
        "\n",
        "sum(float(d['hwy']) for d in mpg) / len(mpg)\n",
        "\n",
        "#unique values in a column\n",
        "cylinders = set(d['cyl'] for d in mpg)\n",
        "\n",
        "##city fuel economy to number of cylinders relation\n",
        "CtyMpgByCyl = []\n",
        "\n",
        "for c in cylinders:\n",
        "    summpg = 0\n",
        "    cyltypecount = 0\n",
        "    for d in mpg:\n",
        "        if d['cyl'] == c:\n",
        "            summpg += 1\n",
        "            cyltypecount += 1\n",
        "    CtyMpgByCyl.append((c, summpg / cyltypecount))\n",
        "\n",
        "CtyMpgByCyl.sort(key=lambda x: x[0])\n",
        "CtyMpgByCyl\n",
        "\n",
        "##fuel economy across different types of vehicles\n",
        "\n",
        "#types of vehicles\n",
        "vehicleClass = set(d['class'] for d in mpg)\n",
        "vehicleClass\n",
        "\n",
        "HwyMpgByCLass = []\n",
        "\n",
        "for t in vehicleClass: #iterate over all vehicle classes\n",
        "    summpg = 0\n",
        "    vClassCount = 0\n",
        "    for d in mpg:\n",
        "        if d['cass'] == t:\n",
        "            summpg += float(d['hwy'])\n",
        "            vClassCount += 1\n",
        "    HwyMpgByCLass.append((t, summpg / vClassCount)) # append the tuple ('class', 'avg mpg')\n",
        "\n",
        "HwyMpgByCLass.sort(key = lambda X: x[1]) #probably for ascending sort\n",
        "HwyMpgByCLass"
      ]
    },
    {
      "cell_type": "code",
      "execution_count": 8,
      "metadata": {},
      "outputs": [
        {
          "name": "stdout",
          "output_type": "stream",
          "text": [
            "Date 100 days before is  2021-12-03\n"
          ]
        }
      ],
      "source": [
        "## Date and time\n",
        "# Dates are often counted since the Epoch: Jan 1, 1970\n",
        "\n",
        "import datetime as dt\n",
        "import time as tm\n",
        "\n",
        "tm.time() #current time since epoc\n",
        "\n",
        "dtnow = dt.datetime.fromtimestamp(tm.time())\n",
        "# tm.time() returns time value since epoch\n",
        "# dt.datetime returns date and time, fromtimestamp specifies our input\n",
        "\n",
        "dtnow\n",
        "\n",
        "# it can returns specific time that we want\n",
        "dtnow.year, dtnow.month, dtnow.day, dtnow.hour, dtnow.minute, dtnow.second\n",
        "\n",
        "# time difference\n",
        "delta = dt.timedelta(days = 100)\n",
        "today = dt.date.today()\n",
        "difference = today - delta\n",
        "print(\"Date 100 days before is: \", difference) #date 100 days before"
      ]
    },
    {
      "cell_type": "code",
      "execution_count": null,
      "metadata": {},
      "outputs": [],
      "source": [
        "## Objects and map()\n",
        "\n",
        "# The first character of class names are usually capitalized\n",
        "# we can add constructor by using \"__init__\"\n",
        "\n",
        "class Person:\n",
        "    # Class veriables are activated within class instances\n",
        "    # In this example, all person are assigned department of info within class instances\n",
        "    department = 'School of Information'\n",
        "\n",
        "    # we can use methods inside class, which are like using functions inside class\n",
        "    # however, we need to add 'self' in the input parameters for methods inside classes\n",
        "    # and we need to add self.variable name for methods\n",
        "    def set_name(self, new_name):\n",
        "        self.name = new_name\n",
        "    def set_location(self, new_location):\n",
        "        self.location = new_location"
      ]
    },
    {
      "cell_type": "code",
      "execution_count": null,
      "metadata": {},
      "outputs": [],
      "source": [
        "## Functional programming: paradigm in which we state all parameters which could change during the execution of a function\n",
        "\n",
        "## Map function\n",
        "# a built in example of functional programming\n",
        "# map allows us to apply functions/operations on big data without taking up huge memory.\n",
        "# In order to check results, we can use for loop\n",
        "\n",
        "# example 1\n",
        "store1 = [10.00, 11.00, 12.34, 2.34]\n",
        "store2 = [9.00, 11.10, 12.34, 2.01]\n",
        "cheapest = map(min, store1, store2)\n",
        "cheapest #this doesn't return the result, rather a map object.\n",
        "        # it only gives result when we look into it, which allows memory efficiency.\n",
        "\n",
        "# example 2\n",
        "people = ['Dr. Christopher Brooks', 'Dr. Kevyn Collins-Thompson', 'Dr. VG Vinod Vydiswaran', 'Dr. Daniel Romero']\n",
        "\n",
        "def split_title_and_name(person):\n",
        "    title = person.split()[0]\n",
        "    lastname = person.split()[-1]\n",
        "    return '{} {}'.format(title, lastname)\n",
        "\n",
        "list(map(split_title_and_name, people))\n"
      ]
    },
    {
      "cell_type": "code",
      "execution_count": 9,
      "metadata": {},
      "outputs": [
        {
          "data": {
            "text/plain": [
              "3"
            ]
          },
          "execution_count": 9,
          "metadata": {},
          "output_type": "execute_result"
        }
      ],
      "source": [
        "## Lambda\n",
        "# These are anonymous functions - simple (one line) and short lived\n",
        "\n",
        "# example 1\n",
        "\n",
        "my_function = lambda a, b, c: a + b\n",
        "my_function (1, 2, 3)\n",
        "\n",
        "# example 2\n",
        "people = ['Dr. Christopher Brooks', 'Dr. Kevyn Collins-Thompson', 'Dr. VG Vinod Vydiswaran', 'Dr. Daniel Romero']\n",
        "\n",
        "def split_title_and_name(person):\n",
        "    return person.split()[0] + ' ' + person.split()[-1]\n",
        "\n",
        "#option 1\n",
        "for person in people:\n",
        "    print(split_title_and_name(person) == (lambda x: x.split()[0] + ' ' + x.split()[-1])(person))\n",
        "\n",
        "#option 2\n",
        "list(map(split_title_and_name, people)) == list(map(lambda person: person.split()[0] + ' ' + person.split()[-1], people))\n"
      ]
    },
    {
      "cell_type": "code",
      "execution_count": null,
      "metadata": {},
      "outputs": [],
      "source": [
        "## List comprehension\n",
        "\n",
        "# example 1: list of even numbers\n",
        "\n",
        "#option 1\n",
        "my_list = []\n",
        "for number in range (0, 1000):\n",
        "    if number % 2 == 0:\n",
        "        my_list.append(number)\n",
        "my_list\n",
        "\n",
        "# option 2 - list comprehension\n",
        "# Specify the value we want (number here) followed by condition\n",
        "my_list = [number for number in range(0, 1000) if number % 2 == 0]\n",
        "\n",
        "\n",
        "# example 2\n",
        "\n",
        "def times_tables():\n",
        "    lst = []\n",
        "    for i in range(10):\n",
        "        for j in range (10):\n",
        "            lst.append(i*j)\n",
        "    return lst\n",
        "\n",
        "times_tables() == [j*i for i in range(10) for j in range(10)]\n",
        "\n",
        "# example 3\n",
        "lowercase = 'abcdefghijklmnopqrstuvwxyz'\n",
        "digits = '0123456789'\n",
        "\n",
        "correct_answer = [a+b+c+d for a in lowercase for b in lowercase for c in digits for d in digits]\n",
        "\n",
        "correct_answer[:50] # Display first 50 ids\n"
      ]
    },
    {
      "cell_type": "markdown",
      "metadata": {},
      "source": [
        "### Numpy"
      ]
    },
    {
      "cell_type": "code",
      "execution_count": 1,
      "metadata": {},
      "outputs": [],
      "source": [
        "import numpy as np\n",
        "import math"
      ]
    },
    {
      "cell_type": "code",
      "execution_count": 2,
      "metadata": {},
      "outputs": [
        {
          "name": "stdout",
          "output_type": "stream",
          "text": [
            "1\n"
          ]
        }
      ],
      "source": [
        "#Arrays are lists or lists of lists\n",
        "\n",
        "a = np.array([1, 2, 3])\n",
        "print(a)\n",
        "print(a.ndim)"
      ]
    },
    {
      "cell_type": "code",
      "execution_count": 6,
      "metadata": {},
      "outputs": [
        {
          "name": "stdout",
          "output_type": "stream",
          "text": [
            "(2, 3)\n"
          ]
        },
        {
          "data": {
            "text/plain": [
              "dtype('int32')"
            ]
          },
          "execution_count": 6,
          "metadata": {},
          "output_type": "execute_result"
        }
      ],
      "source": [
        "b = np.array([[1,2,3],[4,5,6]])\n",
        "print(b.shape)\n",
        "b.dtype"
      ]
    },
    {
      "cell_type": "code",
      "execution_count": 9,
      "metadata": {},
      "outputs": [
        {
          "data": {
            "text/plain": [
              "'float64'"
            ]
          },
          "execution_count": 9,
          "metadata": {},
          "output_type": "execute_result"
        }
      ],
      "source": [
        "c = np.array([2.2, 3, 4])\n",
        "c.dtype.name\n",
        "\n",
        "#numpy tries to make all entries of an array of the same datatype"
      ]
    },
    {
      "cell_type": "code",
      "execution_count": 13,
      "metadata": {},
      "outputs": [
        {
          "data": {
            "text/plain": [
              "array([[0.62358271, 0.24757561, 0.43753588],\n",
              "       [0.88958622, 0.2064488 , 0.0370893 ]])"
            ]
          },
          "execution_count": 13,
          "metadata": {},
          "output_type": "execute_result"
        }
      ],
      "source": [
        "# arrays of specefic shape with fillers\n",
        "\n",
        "d = np.zeros((2,3))\n",
        "e = np.ones((2,3))\n",
        "f = np.random.rand(2,3)"
      ]
    },
    {
      "cell_type": "code",
      "execution_count": 17,
      "metadata": {},
      "outputs": [
        {
          "name": "stdout",
          "output_type": "stream",
          "text": [
            "[10 12 14 16 18]\n",
            "[0.         0.14285714 0.28571429 0.42857143 0.57142857 0.71428571\n",
            " 0.85714286 1.         1.14285714 1.28571429 1.42857143 1.57142857\n",
            " 1.71428571 1.85714286 2.        ]\n"
          ]
        }
      ],
      "source": [
        "# Arange function: to create a sequence of numbers in an array. The first argument is starting bound, the second is the ending bound, the third is the difference of each consecutive numbers.\n",
        "\n",
        "g = np.arange(10, 20, 2)\n",
        "print(g)\n",
        "\n",
        "# We use linspace() to create floats. Here the third argument is how many numbers do we want to generate.\n",
        "\n",
        "h = np.linspace(0, 2, 15)\n",
        "print(h)"
      ]
    },
    {
      "cell_type": "markdown",
      "metadata": {},
      "source": [
        "### Array Operations"
      ]
    },
    {
      "cell_type": "code",
      "execution_count": 20,
      "metadata": {},
      "outputs": [
        {
          "name": "stdout",
          "output_type": "stream",
          "text": [
            "[ 9 18 27 36]\n",
            "[ 10  40  90 160]\n"
          ]
        }
      ],
      "source": [
        "# We can do mathematical manipulations with arrays (addition, subtraction, square, exponent etc.), boolean arrays, matrix manipulation (product, transpose, inverse, etc.)\n",
        "\n",
        "# Arithmatic operators apply elementwise\n",
        "\n",
        "a = np.array([10, 20, 30, 40])\n",
        "b = np.array([1, 2, 3, 4])\n",
        "c = a-b\n",
        "print(c)\n",
        "\n",
        "d = a*b\n",
        "print(d)"
      ]
    },
    {
      "cell_type": "code",
      "execution_count": 24,
      "metadata": {},
      "outputs": [
        {
          "data": {
            "text/plain": [
              "array([ True, False,  True, False])"
            ]
          },
          "execution_count": 24,
          "metadata": {},
          "output_type": "execute_result"
        }
      ],
      "source": [
        "new = np.array([10, -20.5, 30.5, -40])\n",
        "new > 0\n",
        "\n",
        "# boolean array returns T/F"
      ]
    },
    {
      "cell_type": "code",
      "execution_count": 25,
      "metadata": {},
      "outputs": [
        {
          "data": {
            "text/plain": [
              "array([ True, False, False,  True])"
            ]
          },
          "execution_count": 25,
          "metadata": {},
          "output_type": "execute_result"
        }
      ],
      "source": [
        "new%2 == 0 #if elements are divisible by 2"
      ]
    },
    {
      "cell_type": "code",
      "execution_count": 29,
      "metadata": {},
      "outputs": [
        {
          "name": "stdout",
          "output_type": "stream",
          "text": [
            "[[2 0]\n",
            " [0 4]]\n",
            "[[5 4]\n",
            " [3 4]]\n"
          ]
        }
      ],
      "source": [
        "# we can do elementwise multiplication with asterix. We can use @ sign for matrix dot multipliaction\n",
        "A = np.array([[1, 1], [0, 1]])\n",
        "B = np.array([[2, 0], [3, 4]])\n",
        "print(A*B)\n",
        "print(A@B)\n",
        "\n",
        "# multiplication of two matrices is only possible when the shape of them are same, and we can use A.shape to get their shape"
      ]
    },
    {
      "cell_type": "code",
      "execution_count": null,
      "metadata": {},
      "outputs": [],
      "source": []
    },
    {
      "cell_type": "code",
      "execution_count": null,
      "metadata": {},
      "outputs": [],
      "source": []
    },
    {
      "cell_type": "code",
      "execution_count": null,
      "metadata": {},
      "outputs": [],
      "source": []
    },
    {
      "cell_type": "code",
      "execution_count": null,
      "metadata": {},
      "outputs": [],
      "source": []
    },
    {
      "cell_type": "markdown",
      "metadata": {},
      "source": [
        "### Pandas"
      ]
    },
    {
      "cell_type": "markdown",
      "metadata": {},
      "source": []
    },
    {
      "cell_type": "markdown",
      "metadata": {},
      "source": [
        "#### Time Series Data: data with column names, that can be retrieved with .name attribute."
      ]
    },
    {
      "cell_type": "code",
      "execution_count": 1,
      "metadata": {},
      "outputs": [],
      "source": [
        "import pandas as pd"
      ]
    },
    {
      "cell_type": "code",
      "execution_count": 2,
      "metadata": {},
      "outputs": [
        {
          "data": {
            "text/plain": [
              "0      Alice\n",
              "1        Bob\n",
              "2    Charlie\n",
              "dtype: object"
            ]
          },
          "execution_count": 2,
          "metadata": {},
          "output_type": "execute_result"
        }
      ],
      "source": [
        "# We can create a pandas series by passing a list of values.\n",
        "# Pandas automatically assigns an index starting with zero and sets the name of the series to none.\n",
        "\n",
        "# Create a list\n",
        "students = ['Alice', 'Bob', 'Charlie']\n",
        "\n",
        "# pandas series\n",
        "pd.Series(students)"
      ]
    },
    {
      "cell_type": "code",
      "execution_count": 3,
      "metadata": {},
      "outputs": [
        {
          "data": {
            "text/plain": [
              "0    1\n",
              "1    2\n",
              "2    3\n",
              "dtype: int64"
            ]
          },
          "execution_count": 3,
          "metadata": {},
          "output_type": "execute_result"
        }
      ],
      "source": [
        "numbers = [1, 2, 3]\n",
        "pd.Series(numbers)"
      ]
    },
    {
      "cell_type": "code",
      "execution_count": 4,
      "metadata": {},
      "outputs": [
        {
          "data": {
            "text/plain": [
              "0    Alice\n",
              "1      Bob\n",
              "2     None\n",
              "dtype: object"
            ]
          },
          "execution_count": 4,
          "metadata": {},
          "output_type": "execute_result"
        }
      ],
      "source": [
        "# Missing data\n",
        "\n",
        "students = ['Alice', \"Bob\", None]\n",
        "pd.Series(students)"
      ]
    },
    {
      "cell_type": "code",
      "execution_count": 5,
      "metadata": {},
      "outputs": [
        {
          "data": {
            "text/plain": [
              "0    1.0\n",
              "1    2.0\n",
              "2    NaN\n",
              "dtype: float64"
            ]
          },
          "execution_count": 5,
          "metadata": {},
          "output_type": "execute_result"
        }
      ],
      "source": [
        "# Pandas considers None as float. Thus, if there are missing data in a column of integers, pandas will treat it as float.\n",
        "\n",
        "numbers = [1, 2, None]\n",
        "pd.Series(numbers)\n",
        "\n",
        "# NaN is not equivalent to None. NaN is numeric, while None is any missing value."
      ]
    },
    {
      "cell_type": "code",
      "execution_count": 8,
      "metadata": {},
      "outputs": [
        {
          "data": {
            "text/plain": [
              "Index(['Alice', 'Bob', 'Charlie'], dtype='object')"
            ]
          },
          "execution_count": 8,
          "metadata": {},
          "output_type": "execute_result"
        }
      ],
      "source": [
        "# a series can be created directly from dictionary. Pandas will automatically use the index as the key, and not just incrementing integers.\n",
        "students_scores = {'Alice': 'Physics',\n",
        "                    'Bob': 'Math',\n",
        "                    'Charlie': 'English'}\n",
        "\n",
        "s = pd.Series(students_scores)\n",
        "s\n",
        "\n",
        "s.index"
      ]
    },
    {
      "cell_type": "code",
      "execution_count": 9,
      "metadata": {},
      "outputs": [
        {
          "data": {
            "text/plain": [
              "0    (Alice, Brown)\n",
              "1     (Jack, White)\n",
              "2    (Molly, Green)\n",
              "dtype: object"
            ]
          },
          "execution_count": 9,
          "metadata": {},
          "output_type": "execute_result"
        }
      ],
      "source": [
        "# dtype object is not just for strings\n",
        "\n",
        "students = [(\"Alice\", \"Brown\"), (\"Jack\", \"White\"), (\"Molly\", \"Green\")]\n",
        "pd.Series(students)"
      ]
    },
    {
      "cell_type": "code",
      "execution_count": 12,
      "metadata": {},
      "outputs": [
        {
          "data": {
            "text/plain": [
              "Alice      Physics\n",
              "Jack     Chemistry\n",
              "Molly      English\n",
              "dtype: object"
            ]
          },
          "execution_count": 12,
          "metadata": {},
          "output_type": "execute_result"
        }
      ],
      "source": [
        "s = pd.Series(['Physics', 'Chemistry', 'English'], index=['Alice', 'Jack', 'Molly'])\n",
        "s"
      ]
    },
    {
      "cell_type": "code",
      "execution_count": 13,
      "metadata": {},
      "outputs": [],
      "source": [
        "# If index and keys don't match, pandas will add missing values\n",
        "\n",
        "students_scores = {'Alice': 'Physics',\n",
        "                    'Jack': 'Chemistry',\n",
        "                    'Molly': 'English'}"
      ]
    },
    {
      "cell_type": "code",
      "execution_count": null,
      "metadata": {},
      "outputs": [],
      "source": []
    },
    {
      "cell_type": "markdown",
      "metadata": {},
      "source": [
        "# Kaggle"
      ]
    },
    {
      "cell_type": "markdown",
      "metadata": {},
      "source": [
        "## Python"
      ]
    },
    {
      "cell_type": "markdown",
      "metadata": {},
      "source": [
        "### Functions"
      ]
    },
    {
      "cell_type": "code",
      "execution_count": 2,
      "metadata": {},
      "outputs": [
        {
          "name": "stdout",
          "output_type": "stream",
          "text": [
            "Help on function least_difference in module __main__:\n",
            "\n",
            "least_difference(a, b, c)\n",
            "    Return the smallest difference between any two numbers\n",
            "    among a, b and c.\n",
            "    \n",
            "    >>> least_difference(1, 5, -5)\n",
            "    4\n",
            "\n"
          ]
        }
      ],
      "source": [
        "def least_difference(a, b, c):\n",
        "    \"\"\"Return the smallest difference between any two numbers\n",
        "    among a, b and c.\n",
        "    \n",
        "    >>> least_difference(1, 5, -5)\n",
        "    4\n",
        "    \"\"\"\n",
        "    diff1 = abs(a - b)\n",
        "    diff2 = abs(b - c)\n",
        "    diff3 = abs(a - c)\n",
        "    return min(diff1, diff2, diff3)\n",
        "\n",
        "help(least_difference)"
      ]
    },
    {
      "cell_type": "code",
      "execution_count": null,
      "metadata": {},
      "outputs": [],
      "source": [
        "print(1, 2, 3, sep=' < ')"
      ]
    },
    {
      "cell_type": "code",
      "execution_count": null,
      "metadata": {},
      "outputs": [],
      "source": [
        "#Default values inside function variables\n",
        "\n",
        "def greet(who=\"Colin\"):\n",
        "    print(\"Hello,\", who)\n",
        "    \n",
        "greet()\n",
        "greet(who=\"Kaggle\")\n",
        "# (In this case, we don't need to specify the name of the argument, because it's unambiguous.)\n",
        "greet(\"world\")"
      ]
    },
    {
      "cell_type": "code",
      "execution_count": null,
      "metadata": {},
      "outputs": [],
      "source": [
        "#Functions within functions\n",
        "\n",
        "def mult_by_five(x):\n",
        "    return 5 * x\n",
        "\n",
        "def call(fn, arg):\n",
        "    \"\"\"Call fn on arg\"\"\"\n",
        "    return fn(arg)\n",
        "\n",
        "def squared_call(fn, arg):\n",
        "    \"\"\"Call fn on the result of calling fn on arg\"\"\"\n",
        "    return fn(fn(arg))\n",
        "\n",
        "print(\n",
        "    call(mult_by_five, 1),\n",
        "    squared_call(mult_by_five, 1), \n",
        "    sep='\\n', # '\\n' is the newline character - it starts a new line\n",
        ")"
      ]
    },
    {
      "cell_type": "code",
      "execution_count": null,
      "metadata": {},
      "outputs": [],
      "source": [
        "# Default arguments\n",
        "\n",
        "def mod_5(x):\n",
        "    \"\"\"Return the remainder of x after dividing by 5\"\"\"\n",
        "    return x % 5\n",
        "\n",
        "print(\n",
        "    'Which number is biggest?',\n",
        "    max(100, 51, 14),\n",
        "    'Which number is the biggest modulo 5?',\n",
        "    max(100, 51, 14, key=mod_5),\n",
        "    sep='\\n',\n",
        ")"
      ]
    },
    {
      "cell_type": "markdown",
      "metadata": {},
      "source": [
        "### Booleans and Conditionals"
      ]
    },
    {
      "cell_type": "code",
      "execution_count": 3,
      "metadata": {},
      "outputs": [
        {
          "data": {
            "text/plain": [
              "True"
            ]
          },
          "execution_count": 3,
          "metadata": {},
          "output_type": "execute_result"
        }
      ],
      "source": [
        "True or True and False"
      ]
    },
    {
      "cell_type": "code",
      "execution_count": null,
      "metadata": {},
      "outputs": [],
      "source": [
        "#Conditionals\n",
        "def f(x):\n",
        "    if x > 0:\n",
        "        print(\"Only printed when x is positive; x =\", x)\n",
        "        print(\"Also only printed when x is positive; x =\", x)\n",
        "    print(\"Always printed, regardless of x's value; x =\", x)\n",
        "\n",
        "f(1)\n",
        "f(0)"
      ]
    },
    {
      "cell_type": "code",
      "execution_count": null,
      "metadata": {},
      "outputs": [],
      "source": [
        "print(bool(1)) # all numbers are treated as true, except 0\n",
        "print(bool(0))\n",
        "print(bool(\"asf\")) # all strings are treated as true, except the empty string \"\"\n",
        "print(bool(\"\"))\n",
        "# Generally empty sequences (strings, lists, and other types we've yet to see like lists and tuples)\n",
        "# are \"falsey\" and the rest are \"truthy\""
      ]
    },
    {
      "cell_type": "code",
      "execution_count": null,
      "metadata": {},
      "outputs": [],
      "source": [
        "def wants_plain_hotdog(ketchup, mustard, onion):\n",
        "    \"\"\"Return whether the customer wants a plain hot dog with no toppings.\n",
        "    \"\"\"\n",
        "    return not (ketchup or mustard or onion)"
      ]
    },
    {
      "cell_type": "code",
      "execution_count": null,
      "metadata": {},
      "outputs": [],
      "source": [
        "def exactly_one_sauce(ketchup, mustard, onion):\n",
        "    \"\"\"Return whether the customer wants either ketchup or mustard, but not both.\n",
        "    (You may be familiar with this operation under the name \"exclusive or\")\n",
        "    \"\"\"\n",
        "    return ketchup ^ mustard"
      ]
    },
    {
      "cell_type": "code",
      "execution_count": null,
      "metadata": {},
      "outputs": [],
      "source": [
        "def exactly_one_topping(ketchup, mustard, onion):\n",
        "    \"\"\"Return whether the customer wants exactly one of the three available toppings\n",
        "    on their hot dog.\n",
        "    \"\"\"\n",
        "    return 1 == (int(ketchup) + int(mustard) + int(onion))"
      ]
    },
    {
      "cell_type": "markdown",
      "metadata": {},
      "source": [
        "### Lists"
      ]
    },
    {
      "cell_type": "code",
      "execution_count": 6,
      "metadata": {},
      "outputs": [],
      "source": [
        "primes = [2, 3, 5, 7]\n",
        "\n",
        "planets = ['Mercury', 'Venus', 'Earth', 'Mars', 'Jupiter', 'Saturn', 'Uranus', 'Neptune']\n",
        "\n",
        "hands = [\n",
        "    ['J', 'Q', 'K'],\n",
        "    ['2', '2', '2'],\n",
        "    ['6', 'A', 'K'], # (Comma after the last element is optional)\n",
        "]\n",
        "\n",
        "my_favourite_things = [32, 'raindrops on roses', help]"
      ]
    },
    {
      "cell_type": "code",
      "execution_count": null,
      "metadata": {},
      "outputs": [],
      "source": [
        "# Indexing\n",
        "\n",
        "planets[0]"
      ]
    },
    {
      "cell_type": "code",
      "execution_count": null,
      "metadata": {},
      "outputs": [],
      "source": [
        "planets[-1]"
      ]
    },
    {
      "cell_type": "code",
      "execution_count": 11,
      "metadata": {},
      "outputs": [
        {
          "data": {
            "text/plain": [
              "['Earth', 'Mars', 'Jupiter', 'Saturn', 'Uranus', 'Neptune']"
            ]
          },
          "execution_count": 11,
          "metadata": {},
          "output_type": "execute_result"
        }
      ],
      "source": [
        "# Slicing\n",
        "planets[2:]"
      ]
    },
    {
      "cell_type": "code",
      "execution_count": 9,
      "metadata": {},
      "outputs": [
        {
          "data": {
            "text/plain": [
              "['Mercury', 'Venus', 'Earth']"
            ]
          },
          "execution_count": 9,
          "metadata": {},
          "output_type": "execute_result"
        }
      ],
      "source": [
        "planets[:3]"
      ]
    },
    {
      "cell_type": "code",
      "execution_count": 12,
      "metadata": {},
      "outputs": [
        {
          "data": {
            "text/plain": [
              "['Venus', 'Earth', 'Mars', 'Jupiter', 'Saturn', 'Uranus']"
            ]
          },
          "execution_count": 12,
          "metadata": {},
          "output_type": "execute_result"
        }
      ],
      "source": [
        "# All the planets except the first and last\n",
        "planets[1:-1]"
      ]
    },
    {
      "cell_type": "code",
      "execution_count": null,
      "metadata": {},
      "outputs": [],
      "source": [
        "# The last 3 planets\n",
        "planets[-3:]"
      ]
    },
    {
      "cell_type": "code",
      "execution_count": null,
      "metadata": {},
      "outputs": [],
      "source": [
        "# Changing lists\n",
        "planets[3] = 'Malacandra'\n",
        "planets"
      ]
    },
    {
      "cell_type": "code",
      "execution_count": 13,
      "metadata": {},
      "outputs": [
        {
          "name": "stdout",
          "output_type": "stream",
          "text": [
            "['Mur', 'Vee', 'Ur', 'Mars', 'Jupiter', 'Saturn', 'Uranus', 'Neptune']\n"
          ]
        }
      ],
      "source": [
        "planets[:3] = ['Mur', 'Vee', 'Ur']\n",
        "print(planets)\n",
        "# That was silly. Let's give them back their old names\n",
        "planets[:4] = ['Mercury', 'Venus', 'Earth', 'Mars',]"
      ]
    },
    {
      "cell_type": "markdown",
      "metadata": {},
      "source": [
        "#### List functions"
      ]
    },
    {
      "cell_type": "code",
      "execution_count": null,
      "metadata": {},
      "outputs": [],
      "source": [
        "# The planets sorted in alphabetical order\n",
        "sorted(planets)"
      ]
    },
    {
      "cell_type": "code",
      "execution_count": null,
      "metadata": {},
      "outputs": [],
      "source": [
        "primes = [2, 3, 5, 7]\n",
        "sum(primes)"
      ]
    },
    {
      "cell_type": "markdown",
      "metadata": {},
      "source": [
        "In short, objects carry some things around with them. You access that stuff using Python's dot syntax.\n",
        "\n",
        "For example, numbers in Python carry around an associated variable called imag representing their imaginary part. (You'll probably never need to use this unless you're doing some very weird math.)\n",
        "\n",
        "The things an object carries around can also include functions. A function attached to an object is called a method. (Non-function things attached to an object, such as imag, are called attributes).\n",
        "\n",
        "In the same way that we can pass functions to the help function (e.g. help(max)), we can also pass in methods"
      ]
    },
    {
      "cell_type": "code",
      "execution_count": null,
      "metadata": {},
      "outputs": [],
      "source": [
        "help(x.bit_length)"
      ]
    },
    {
      "cell_type": "markdown",
      "metadata": {},
      "source": [
        "#### List Methods"
      ]
    },
    {
      "cell_type": "code",
      "execution_count": null,
      "metadata": {},
      "outputs": [],
      "source": [
        "# list.append modifies a list by adding an item to the end:\n",
        "planets.append('Pluto')"
      ]
    },
    {
      "cell_type": "code",
      "execution_count": null,
      "metadata": {},
      "outputs": [],
      "source": [
        "planets"
      ]
    },
    {
      "cell_type": "code",
      "execution_count": null,
      "metadata": {},
      "outputs": [],
      "source": [
        "# list.pop removes and returns the last element of a list:\n",
        "planets.pop()"
      ]
    },
    {
      "cell_type": "code",
      "execution_count": null,
      "metadata": {},
      "outputs": [],
      "source": [
        "# Searching lists\n",
        "planets.index('Earth')"
      ]
    },
    {
      "cell_type": "code",
      "execution_count": null,
      "metadata": {},
      "outputs": [],
      "source": [
        "\"Earth\" in planets"
      ]
    },
    {
      "cell_type": "code",
      "execution_count": null,
      "metadata": {},
      "outputs": [],
      "source": [
        "\"Calbefraques\" in planets"
      ]
    },
    {
      "cell_type": "markdown",
      "metadata": {},
      "source": [
        "#### Tuples\n",
        "1: The syntax for creating them uses parentheses instead of square brackets"
      ]
    },
    {
      "cell_type": "code",
      "execution_count": null,
      "metadata": {},
      "outputs": [],
      "source": [
        "t = (1, 2, 3)\n",
        "t = 1, 2, 3 # equivalent to above\n",
        "t"
      ]
    },
    {
      "cell_type": "markdown",
      "metadata": {},
      "source": [
        "2: They cannot be modified (they are immutable)."
      ]
    },
    {
      "cell_type": "code",
      "execution_count": null,
      "metadata": {},
      "outputs": [],
      "source": [
        "t[0] = 100"
      ]
    },
    {
      "cell_type": "markdown",
      "metadata": {},
      "source": [
        "Tuples are often used for functions that have multiple return values.\n",
        "For example, the as_integer_ratio() method of float objects returns a numerator and a denominator in the form of a tuple:"
      ]
    },
    {
      "cell_type": "code",
      "execution_count": null,
      "metadata": {},
      "outputs": [],
      "source": [
        "x = 0.125\n",
        "x.as_integer_ratio()"
      ]
    },
    {
      "cell_type": "code",
      "execution_count": null,
      "metadata": {},
      "outputs": [],
      "source": [
        "numerator, denominator = x.as_integer_ratio()"
      ]
    },
    {
      "cell_type": "markdown",
      "metadata": {},
      "source": [
        "You are analyzing sports teams. Members of each team are stored in a list. The Coach is the first name in the list, the captain is the second name in the list, and other players are listed after that. These lists are stored in another list, which starts with the best team and proceeds through the list to the worst team last. Complete the function below to select the captain of the worst team."
      ]
    },
    {
      "cell_type": "code",
      "execution_count": 14,
      "metadata": {},
      "outputs": [],
      "source": [
        "def losing_team_captain(teams):\n",
        "    \"\"\"Given a list of teams, where each team is a list of names, return the 2nd player (captain)\n",
        "    from the last listed team\n",
        "    \"\"\"\n",
        "    return teams[-1][1]"
      ]
    },
    {
      "cell_type": "markdown",
      "metadata": {},
      "source": [
        "We're using lists to record people who attended our party and what order they arrived in. For example, the following list represents a party with 7 guests, in which Adela showed up first and Ford was the last to arrive:\n",
        "\n",
        "party_attendees = ['Adela', 'Fleda', 'Owen', 'May', 'Mona', 'Gilbert', 'Ford']\n",
        "A guest is considered 'fashionably late' if they arrived after at least half of the party's guests. However, they must not be the very last guest (that's taking it too far). In the above example, Mona and Gilbert are the only guests who were fashionably late.\n",
        "\n",
        "Complete the function below which takes a list of party attendees as well as a person, and tells us whether that person is fashionably late."
      ]
    },
    {
      "cell_type": "code",
      "execution_count": null,
      "metadata": {},
      "outputs": [],
      "source": [
        "def fashionably_late(arrivals, name):\n",
        "    \"\"\"Given an ordered list of arrivals to the party and a name, return whether the guest with that\n",
        "    name was fashionably late.\n",
        "    \"\"\"\n",
        "    place = arrivals.index(name)\n",
        "    return (place >= round(len(arrivals)/2)) and (place != len(arrivals)-1)"
      ]
    },
    {
      "cell_type": "markdown",
      "metadata": {},
      "source": [
        "### Loops and List Comprehensions"
      ]
    },
    {
      "cell_type": "markdown",
      "metadata": {},
      "source": [
        "The for loop specifies\n",
        "\n",
        "the variable name to use (in this case, planet)\n",
        "the set of values to loop over (in this case, planets)\n",
        "You use the word \"in\" to link them together.\n",
        "\n",
        "The object to the right of the \"in\" can be any object that supports iteration. Basically, if it can be thought of as a group of things, you can probably loop over it. In addition to lists, we can iterate over the elements of a tuple."
      ]
    },
    {
      "cell_type": "code",
      "execution_count": 1,
      "metadata": {},
      "outputs": [
        {
          "name": "stdout",
          "output_type": "stream",
          "text": [
            "Mercury Venus Earth Mars Jupiter Saturn Uranus Neptune "
          ]
        }
      ],
      "source": [
        "planets = ['Mercury', 'Venus', 'Earth', 'Mars', 'Jupiter', 'Saturn', 'Uranus', 'Neptune']\n",
        "for planet in planets:\n",
        "    print(planet, end=' ') # print all on same line"
      ]
    },
    {
      "cell_type": "code",
      "execution_count": 2,
      "metadata": {},
      "outputs": [
        {
          "name": "stdout",
          "output_type": "stream",
          "text": [
            "HELLO"
          ]
        }
      ],
      "source": [
        "# You can even loop through each character in a string:\n",
        "\n",
        "s = 'steganograpHy is the practicE of conceaLing a file, message, image, or video within another fiLe, message, image, Or video.'\n",
        "msg = ''\n",
        "# print all the uppercase letters in s, one at a time\n",
        "for char in s:\n",
        "    if char.isupper():\n",
        "        print(char, end='')  "
      ]
    },
    {
      "cell_type": "markdown",
      "metadata": {},
      "source": [
        "range()\n",
        "range() is a function that returns a sequence of numbers. It turns out to be very useful for writing loops.\n",
        "\n",
        "For example, if we want to repeat some action 5 times:"
      ]
    },
    {
      "cell_type": "code",
      "execution_count": null,
      "metadata": {},
      "outputs": [],
      "source": [
        "for i in range(5):\n",
        "    print(\"Doing important work. i =\", i)"
      ]
    },
    {
      "cell_type": "markdown",
      "metadata": {},
      "source": [
        "while loops\n",
        "The other type of loop in Python is a while loop, which iterates until some condition is met:"
      ]
    },
    {
      "cell_type": "code",
      "execution_count": null,
      "metadata": {},
      "outputs": [],
      "source": [
        "i = 0\n",
        "while i < 10:\n",
        "    print(i, end=' ')\n",
        "    i += 1 # increase the value of i by 1"
      ]
    },
    {
      "cell_type": "markdown",
      "metadata": {},
      "source": [
        "#### List comprehensions\n",
        "List comprehensions are one of Python's most beloved and unique features. The easiest way to understand them is probably to just look at a few examples:"
      ]
    },
    {
      "cell_type": "code",
      "execution_count": null,
      "metadata": {},
      "outputs": [],
      "source": [
        "squares = [n**2 for n in range(10)]\n",
        "squares"
      ]
    },
    {
      "cell_type": "code",
      "execution_count": null,
      "metadata": {},
      "outputs": [],
      "source": [
        "# Here's how we would do the same thing without a list comprehension:\n",
        "\n",
        "squares = []\n",
        "for n in range(10):\n",
        "    squares.append(n**2)\n",
        "squares"
      ]
    },
    {
      "cell_type": "code",
      "execution_count": 3,
      "metadata": {},
      "outputs": [
        {
          "data": {
            "text/plain": [
              "['Venus', 'Earth', 'Mars']"
            ]
          },
          "execution_count": 3,
          "metadata": {},
          "output_type": "execute_result"
        }
      ],
      "source": [
        "# We can also add an if condition:\n",
        "short_planets = [planet for planet in planets if len(planet) < 6]\n",
        "short_planets"
      ]
    },
    {
      "cell_type": "markdown",
      "metadata": {},
      "source": [
        "(If you're familiar with SQL, you might think of this as being like a \"WHERE\" clause)\n",
        "\n",
        "Here's an example of filtering with an if condition and applying some transformation to the loop variable:"
      ]
    },
    {
      "cell_type": "code",
      "execution_count": null,
      "metadata": {},
      "outputs": [],
      "source": [
        "# str.upper() returns an all-caps version of a string\n",
        "loud_short_planets = [planet.upper() + '!' for planet in planets if len(planet) < 6]\n",
        "loud_short_planets"
      ]
    },
    {
      "cell_type": "code",
      "execution_count": 4,
      "metadata": {},
      "outputs": [
        {
          "data": {
            "text/plain": [
              "['VENUS!', 'EARTH!', 'MARS!']"
            ]
          },
          "execution_count": 4,
          "metadata": {},
          "output_type": "execute_result"
        }
      ],
      "source": [
        "# Multiline\n",
        "[\n",
        "    planet.upper() + '!'    # Operation\n",
        "    for planet              # SELECT\n",
        "    in planets              # FROM\n",
        "    if len(planet) < 6      # WHERE\n",
        "]"
      ]
    },
    {
      "cell_type": "code",
      "execution_count": null,
      "metadata": {},
      "outputs": [],
      "source": [
        "[32 for planet in planets]"
      ]
    },
    {
      "cell_type": "markdown",
      "metadata": {},
      "source": [
        "List comprehensions combined with functions like min, max, and sum can lead to impressive one-line solutions for problems that would otherwise require several lines of code.\n",
        "\n",
        "For example, compare the following two cells of code that do the same thing."
      ]
    },
    {
      "cell_type": "code",
      "execution_count": null,
      "metadata": {},
      "outputs": [],
      "source": [
        "def count_negatives(nums):\n",
        "    \"\"\"Return the number of negative numbers in the given list.\n",
        "    \n",
        "    >>> count_negatives([5, -1, -2, 0, 3])\n",
        "    2\n",
        "    \"\"\"\n",
        "    n_negative = 0\n",
        "    for num in nums:\n",
        "        if num < 0:\n",
        "            n_negative = n_negative + 1\n",
        "    return n_negative"
      ]
    },
    {
      "cell_type": "code",
      "execution_count": null,
      "metadata": {},
      "outputs": [],
      "source": [
        "def count_negatives(nums):\n",
        "    \"\"\"Return the number of negative numbers in the given list.\n",
        "    \n",
        "    >>> count_negatives([5, -1, -2, 0, 3])\n",
        "    2\n",
        "    \"\"\"\n",
        "    return len([num for num in nums if num < 0])"
      ]
    },
    {
      "cell_type": "code",
      "execution_count": null,
      "metadata": {},
      "outputs": [],
      "source": [
        "def count_negatives(nums):\n",
        "    \"\"\"Return the number of negative numbers in the given list.\n",
        "    \n",
        "    >>> count_negatives([5, -1, -2, 0, 3])\n",
        "    2\n",
        "    \"\"\"\n",
        "    # Reminder: in the \"booleans and conditionals\" exercises, we learned about a quirk of \n",
        "    # Python where it calculates something like True + True + False + True to be equal to 3.\n",
        "    return sum([num < 0 for num in nums])"
      ]
    },
    {
      "cell_type": "code",
      "execution_count": null,
      "metadata": {},
      "outputs": [],
      "source": [
        "# Buggy\n",
        "\n",
        "def has_lucky_number(nums):\n",
        "    \"\"\"Return whether the given list of numbers is lucky. A lucky list contains\n",
        "    at least one number divisible by 7.\n",
        "    \"\"\"\n",
        "    for num in nums:\n",
        "        if num % 7 == 0:\n",
        "            return True\n",
        "        else:\n",
        "            return False\n",
        "\n",
        "# Correct\n",
        "def has_lucky_number(nums):\n",
        "    \"\"\"Return whether the given list of numbers is lucky. A lucky list contains\n",
        "    at least one number divisible by 7.\n",
        "    \"\"\"\n",
        "    if len(nums) > 0:\n",
        "        for num in nums:\n",
        "            if num % 7 == 0:\n",
        "                return True\n",
        "        return False\n",
        "    else:\n",
        "        return False\n",
        "\n",
        "# Also\n",
        "def has_lucky_number(nums):\n",
        "    return any([num % 7 == 0 for num in nums])"
      ]
    },
    {
      "cell_type": "code",
      "execution_count": null,
      "metadata": {},
      "outputs": [],
      "source": []
    }
  ],
  "metadata": {
    "colab": {
      "authorship_tag": "ABX9TyNSm1B4tcsazDYoYYi7ugmB",
      "collapsed_sections": [],
      "include_colab_link": true,
      "name": "Python.ipynb",
      "provenance": []
    },
    "interpreter": {
      "hash": "79720da4fe2ad8def20475d3482bbec79c88797751d90138654f96f25c9feacb"
    },
    "kernelspec": {
      "display_name": "Python 3.10.4 64-bit",
      "language": "python",
      "name": "python3"
    },
    "language_info": {
      "codemirror_mode": {
        "name": "ipython",
        "version": 3
      },
      "file_extension": ".py",
      "mimetype": "text/x-python",
      "name": "python",
      "nbconvert_exporter": "python",
      "pygments_lexer": "ipython3",
      "version": "3.10.4"
    }
  },
  "nbformat": 4,
  "nbformat_minor": 0
}
