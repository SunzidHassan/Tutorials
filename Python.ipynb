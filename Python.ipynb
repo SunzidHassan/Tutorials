{
  "nbformat": 4,
  "nbformat_minor": 0,
  "metadata": {
    "colab": {
      "name": "Python.ipynb",
      "provenance": [],
      "collapsed_sections": [],
      "authorship_tag": "ABX9TyNSm1B4tcsazDYoYYi7ugmB",
      "include_colab_link": true
    },
    "kernelspec": {
      "name": "python3",
      "display_name": "Python 3"
    }
  },
  "cells": [
    {
      "cell_type": "markdown",
      "metadata": {
        "id": "view-in-github",
        "colab_type": "text"
      },
      "source": [
        "<a href=\"https://colab.research.google.com/github/SunzidHassan/Tutorials/blob/main/Python.ipynb\" target=\"_parent\"><img src=\"https://colab.research.google.com/assets/colab-badge.svg\" alt=\"Open In Colab\"/></a>"
      ]
    },
    {
      "cell_type": "code",
      "metadata": {
        "id": "UabutXxVMew7"
      },
      "source": [
        ""
      ],
      "execution_count": null,
      "outputs": []
    },
    {
      "cell_type": "markdown",
      "metadata": {
        "id": "rjslfOhSe1-Y"
      },
      "source": [
        "# Py4e Course"
      ]
    },
    {
      "cell_type": "markdown",
      "metadata": {
        "id": "hSdu2xzJs6kZ"
      },
      "source": [
        "**Chapter 4: Functions**\n",
        "\n",
        "Function: DRY - Don't repeat yourself"
      ]
    },
    {
      "cell_type": "code",
      "metadata": {
        "id": "CeZKX6WrtCaX"
      },
      "source": [
        "\"\"\"\n",
        "Write a program to prompt the user for hours and rate per hour using input to compute gross pay.\n",
        "Pay should be the normal rate for hours up to 40 and time-and-a-half for the hourly rate for all hours worked above 40 hours.\n",
        "Put the logic to do the computation of pay in a function called computepay() and use the function to do the computation. The function should return a value.\n",
        "Use 45 hours and a rate of 10.50 per hour to test the program (the pay should be 498.75).\n",
        "You should use input to read a string and float() to convert the string to a number.\n",
        "Do not worry about error checking the user input unless you want to - you can assume the user types numbers properly.\n",
        "Do not name your variable sum or use the sum() function.\n",
        "\"\"\"\n",
        "\n",
        "def computepay(h,r):\n",
        "    if hr < 41:\n",
        "        p = h*r\n",
        "        return p\n",
        "    else:\n",
        "        p = (40 * r) + ((h-40) * r * 1.5)\n",
        "        return p\n",
        "\n",
        "hr = float(input(\"Enter Hours:\"))\n",
        "\n",
        "rt = float(input(\"Enter Rate:\"))\n",
        "\n",
        "p = computepay(hr,rt)\n",
        "\n",
        "print(\"Pay\",p)"
      ],
      "execution_count": null,
      "outputs": []
    },
    {
      "cell_type": "markdown",
      "metadata": {
        "id": "5y_Cks4ONRHK"
      },
      "source": [
        "**Chapter 7: Files**"
      ]
    },
    {
      "cell_type": "code",
      "metadata": {
        "id": "WpRSZ_y7NYAF"
      },
      "source": [
        "\"\"\"\n",
        "> open(filename, mode) creates a connection with file for python\n",
        "\n",
        "> '\\n' is the newline character\n",
        "\n",
        "> python reads a file line by line with for loop\n",
        "file = open('file.txt')\n",
        "for lines in file:\n",
        "  print(lines)\n",
        "\n",
        "file.read() reads the entire file as a long string, with \\n as new line characters.\n",
        "\n",
        "> .starts with checks if a line starts with word of interest\n",
        "file = open('file.txt')\n",
        "for lines in file:\n",
        "  if lines.startswith('word of interest'):\n",
        "    print('got you')\n",
        "\n",
        "or\n",
        "\n",
        "file = open('file.txt')\n",
        "for lines in file:\n",
        "  if not lines.startswith('word of interest'): continue\n",
        "  print('got you')\n",
        "\n",
        "> prompt user for right file name with try/except. If try not works, except prints a message and quits.\n",
        "\n",
        "file = input('Enter the file name: ')\n",
        "try:\n",
        "  file = open(file)\n",
        "except:\n",
        "  print('File can not be opened: ', file)\n",
        "  quit()\n",
        "methods\n",
        "\n",
        "\"\"\""
      ],
      "execution_count": null,
      "outputs": []
    },
    {
      "cell_type": "markdown",
      "metadata": {
        "id": "MJVYpK9cRd2p"
      },
      "source": [
        "**Chapter 8: Data structures**"
      ]
    },
    {
      "cell_type": "code",
      "metadata": {
        "id": "2aZTmeM_RiF_"
      },
      "source": [
        "\"\"\"\n",
        "> Lists are collection of data (anything in square brackets)\n",
        "friends = ['Ador', 'Helal', 'Abhi']\n",
        "\n",
        "> we can loop through each member of list with for loop\n",
        "for friend in friends:\n",
        "  print(friend)\n",
        "\n",
        "> friend[1] is the second element of friend list\n",
        "\n",
        "Built in functions\n",
        "> list.lower() makes the a copy of the list where words lowecase\n",
        "> len(list) gives length of the list\n",
        "> range(list) returns list of 0 to number of elements less one of the list\n",
        "> concatone lists with'+'\n",
        "> slice list with list[1:3] - meaning take second element to 3rd element (3rd is the 4th element, which isn't included)\n",
        "> create blank list with list()\n",
        "> add element at last .append('element')\n",
        "> 'element' in list (True/False)\n",
        "> list.sort() - sorts alphabetically\n",
        "> sum(list) - adds up numbers of list\n",
        "while Ture:\n",
        "  inp = input(\"Engter a number: \")\n",
        "  if imp == 'done': break\n",
        "  value = float(inp)\n",
        "  numlist.append(value)\n",
        "average = sum(numlist)/len(numlist)\n",
        "print(\"Average: \", average)\n",
        "\n",
        "> abc = 'with three words'\n",
        "list = abc.split()\n",
        "list = ['with', 'three', 'words']\n",
        "\n",
        "abc.split(',') - for comma seperated words\n",
        "\n",
        ".rstrip() deletes whitespace after word\n",
        "\n",
        "\"\"\""
      ],
      "execution_count": null,
      "outputs": []
    },
    {
      "cell_type": "code",
      "metadata": {
        "id": "oBhrhg3eVaJy"
      },
      "source": [
        "# Data structure assignment\n",
        "\"\"\"\n",
        "Open the file romeo.txt and read it line by line. For each line, split the line into a list of words using the split() method. The program should build a list of words. For each word on each line check to see if the word is already in the list and if not append it to the list. When the program completes, sort and print the resulting words in alphabetical order.\n",
        "You can download the sample data at http://www.py4e.com/code3/romeo.txt\n",
        "\"\"\"\n",
        "fname = input(\"Enter file name: \")\n",
        "fh = open(fname)\n",
        "lst = list()\n",
        "for line in fh:\n",
        "    wordlist = line.split()\n",
        "    for word in wordlist:\n",
        "        if word not in lst: lst.append(word)\n",
        "lst.sort()\n",
        "print(lst)\n",
        "\n",
        "\"\"\"\n",
        "Open the file mbox-short.txt and read it line by line. When you find a line that starts with 'From ' like the following line:\n",
        "From stephen.marquard@uct.ac.za Sat Jan  5 09:14:16 2008\n",
        "You will parse the From line using split() and print out the second word in the line (i.e. the entire address of the person who sent the message). Then print out a count at the end.\n",
        "Hint: make sure not to include the lines that start with 'From:'.\n",
        "\n",
        "You can download the sample data at http://www.py4e.com/code3/mbox-short.txt\n",
        "\"\"\"\n",
        "fname = input(\"Enter file name: \")\n",
        "if len(fname) < 1 : fname = \"mbox-short.txt\"\n",
        "\n",
        "fh = open(fname)\n",
        "count = 0\n",
        "address = list()\n",
        "\n",
        "for lines in fh:\n",
        "    if lines.startswith('From '):\n",
        "        words = lines.split()\n",
        "        address.append(words[1])\n",
        "        count += 1\n",
        "for addresses in address:\n",
        "    print(addresses)\n",
        "print(\"There were\", count, \"lines in the file with From as the first word\")"
      ],
      "execution_count": null,
      "outputs": []
    },
    {
      "cell_type": "markdown",
      "metadata": {
        "id": "ut0xjEED_5R7"
      },
      "source": [
        "**Chapter 9: Dictionaries**"
      ]
    },
    {
      "cell_type": "code",
      "metadata": {
        "id": "UtZgYa1wAAsY"
      },
      "source": [
        "\"\"\"\n",
        "While lists are ordered elements, dictionary is like a bag full of elements with keys\n",
        "Everything in a dictionary has a 'value' or 'key'\n",
        "we can change values, delete them using keys\n",
        "\"\"\"\n",
        "#creating dictionaries\n",
        "purse = dict()\n",
        "purse['money'] = 12 # here, the element is 12, key is 'money'\n",
        "purse['candy'] = 3 # we add elements with new keys\n",
        "\n",
        "print(purse)\n",
        "\n",
        "bag = {'a': 1, 'b': 2, 'c': 3}\n",
        "bag['d'] = 4\n",
        "print(bag)\n",
        "\n",
        "# counting with dictionaries\n",
        "counter = dict()\n",
        "counter['john'] = 1\n",
        "counter['von'] = 1\n",
        "print(counter)\n",
        "counter['john'] += 1\n",
        "print(counter)\n",
        "\n",
        "\"\"\"\n",
        "# get method: adding new names while counting\n",
        "\n",
        "counts = dict()\n",
        "names = ['a', 'b', 'c', 'd']\n",
        "for name in names:\n",
        "  counts[name] = counts.get(name, 0) + 1 #0 is the default value assigned to a new name\n",
        "print(counts)\n",
        "\n",
        "# what get does\n",
        "if name not in names:\n",
        "  counts[name] = 1\n",
        "else:\n",
        "  counts[name] += 1\n",
        "\n",
        "# Loops in dictionary\n",
        "\n",
        "counts = {'a': 1, 'b': 2, 'c': 3}\n",
        "for key in counts:\n",
        "  print(key, counts[key])\n",
        "\n",
        "# retrieving keys and values as list\n",
        "counts = {'a': 1, 'b': 2, 'c': 3}\n",
        "counts.keys()\n",
        "counts.values()\n",
        "counts.items() # returns a list of key-value pairs or tuples\n",
        "\n",
        "for k, v in counts.items:\n",
        "  print(keys, values)\n",
        "\n",
        "# code for most common word in a paragraph\n",
        "\n",
        "file = input('Enter file: ')\n",
        "handle = open(file)\n",
        "counts = dict()\n",
        "\n",
        "for line in handle:\n",
        "  words = line.split()\n",
        "  for word in words:\n",
        "    counts[word] = counts.get(word, 0) + 1\n",
        "\n",
        "bigcount = None\n",
        "bigword = None\n",
        "for k, v in counts.items():\n",
        "  if bigcount is None or count > bigcount:\n",
        "    bigword = k\n",
        "    bigcount = v\n",
        "print(bigword, bigcount)\n",
        "\n",
        "\"\"\"\n"
      ],
      "execution_count": null,
      "outputs": []
    },
    {
      "cell_type": "code",
      "metadata": {
        "id": "1p6CFFbRE93T"
      },
      "source": [
        "#Dictionary assignment: Write a program to read through the mbox-short.txt and figure out who has sent the greatest number of mail messages.\n",
        "\n",
        "name = input(\"Enter file:\")\n",
        "if len(name) < 1 : name = \"mbox-short.txt\"\n",
        "handle = open(name)\n",
        "adrslist = list()\n",
        "\n",
        "# The program looks for 'From ' lines and takes the second word of those lines as the person who sent the mail.\n",
        "for lines in handle:\n",
        "    if lines.startswith('From '):\n",
        "        parts = lines.split()\n",
        "        adrslist.append(parts[1])\n",
        "        \n",
        "#The program creates a Python dictionary that maps the sender's mail address to a count of the number of times they appear in the file.\n",
        "adrsdict = dict()\n",
        "for addresses in adrslist:\n",
        "    adrsdict[addresses] = adrsdict.get(addresses, 0) + 1\n",
        "\n",
        "#After the dictionary is produced, the program reads through the dictionary using a maximum loop to find the most prolific committer.\n",
        "mostmail = None\n",
        "mostsender = None\n",
        "for adrs, count in adrsdict.items():\n",
        "    if mostmail is None or count > mostmail:\n",
        "        mostsender = adrs\n",
        "        mostmail = count\n",
        "print(mostsender, mostmail)"
      ],
      "execution_count": null,
      "outputs": []
    },
    {
      "cell_type": "markdown",
      "metadata": {
        "id": "PceCvTQcPPDC"
      },
      "source": [
        "**Chapter 10: Tuples**"
      ]
    },
    {
      "cell_type": "code",
      "metadata": {
        "id": "tnpFOCr3PWpR"
      },
      "source": [
        "#Tuples are like lists, initiated with parenthesis instead of square brackets\n",
        "\n",
        "t = ('a', 'b', 'c')\n",
        "print(t)\n",
        "print(t[2])\n",
        "\n",
        "#unlike lists, tuples are immutable, can't be sorted. Because of the restriction, tuples are more efficient\n",
        "\n",
        "# simultaneous assignment\n",
        "(x, y) = (4, 'john')\n",
        "print(x)\n",
        "print(y)\n",
        "\n",
        "#tuples comparisons starts from left most elements, and move to compare next item if they're same\n",
        "# we can create and sort key-value pair tuples of dictionary, and sort them in terms of keys (keys are unique, values need not be)\n",
        "d = {'a': 1, 'b': 3, 'c': 2}\n",
        "t = sorted(d.items())\n",
        "for k, v in sorted(d.items()):\n",
        "  print(k, v)\n",
        "\n",
        "# in order to sort values, we need to create new tuples with values, key\n",
        "\n",
        "tmp = list()\n",
        "for k, v in d.items():\n",
        "  tmp.append((v, k))\n",
        "print(tmp)\n",
        "\n",
        "tmp = sorted(tmp, reverse=True)\n",
        "print(tmp)\n",
        "\n",
        "#10 most common words in a paragraph\n",
        "\"\"\"\n",
        "handel = open('file.txt')\n",
        "counts = dict()\n",
        "\n",
        "for line in handel:\n",
        "  words = line.split()\n",
        "  for word in words:\n",
        "    counts[word] = counts.get(word, 0) + 1\n",
        "\n",
        "list = list()\n",
        "for k, v in counts.items():\n",
        "  newtup = (v, k)\n",
        "  list.append(newtup)\n",
        "\n",
        "list = sorted(list, reverse=True)\n",
        "\n",
        "for v, k in list[:10]:\n",
        "  print(k, v)\n",
        "\n",
        "\"\"\"\n",
        "\n",
        "#shorter sorting\n",
        "\"\"\"\n",
        "d = {'a': 1, 'b': 3, 'c': 2}\n",
        "print(sorted([(v, k) for k, v in d.items()]))\n",
        "\n",
        "\"\"\""
      ],
      "execution_count": null,
      "outputs": []
    },
    {
      "cell_type": "code",
      "metadata": {
        "id": "QT69e1f6gnIw"
      },
      "source": [
        "#Tuple assignment\n",
        "\"\"\"\n",
        "Write a program to read through the mbox-short.txt and figure out the distribution by hour of the day for each of the messages.\n",
        "You can pull the hour out from the 'From ' line by finding the time and then splitting the string a second time using a colon.\n",
        "From stephen.marquard@uct.ac.za Sat Jan  5 09:14:16 2008\n",
        "Once you have accumulated the counts for each hour, print out the counts, sorted by hour as shown below.\n",
        "\n",
        "name = input(\"Enter file:\")\n",
        "if len(name) < 1 : name = \"mbox-short.txt\"\n",
        "handle = open(name)\n",
        "\n",
        "hours= list()\n",
        "\n",
        "for line in handle:\n",
        "    if line.startswith('From '):\n",
        "        l1 = line.split()\n",
        "        time = l1[5]\n",
        "        l2 = time.split(':')\n",
        "        hours.append(l2[0])\n",
        "\n",
        "hcount = dict()\n",
        "for hour in hours:\n",
        "\n",
        "\n",
        "    hcount[hour] = hcount.get(hour, 0) + 1\n",
        "\n",
        "for h, c in sorted(hcount.items()):\n",
        "    print(h, c)\n",
        "\n",
        "\"\"\""
      ],
      "execution_count": null,
      "outputs": []
    },
    {
      "cell_type": "markdown",
      "metadata": {
        "id": "6liDozrG4z0x"
      },
      "source": [
        "**Chapter: ? Object oriented programming**\n",
        "\n",
        "A lego block of function/code (method) and data (attribute) that does a particular thing. Many such lego blocks can be used to make something useful.\n",
        "\n",
        "Class is the template that makes class instances or objects.\n",
        "\n",
        "For example, list is an object (list class can be used to make lists). And list.append() is a class method - that can be used to add element in list."
      ]
    },
    {
      "cell_type": "code",
      "metadata": {
        "id": "TXii0BaLsWvt"
      },
      "source": [
        "\"\"\"\n",
        "Class:\n",
        "\t• Template for objects/instances of class (organized code/method and data/attributes) that are reusable\n",
        "\t• For example, employees of a company has name, email address, salary etc. Each employee are objects, and we can use a class as template to generate the objects.\n",
        "\"\"\"\n",
        "\n",
        "class Employee:\n",
        "\t\n",
        "\t#this is class variable, which is same for all instances\n",
        "\traise_amoutn = 1.04\n",
        "\t\n",
        "\t# this is the main class attributes\n",
        "\tdef __init__(self, first, last, pay):\n",
        "\t\tself.first = first\n",
        "\t\tself.last = last\n",
        "\t\tself.pay = pay\n",
        "\t\tself.email = first + '.' + last + '@company.com'\n",
        "\t\t\n",
        "\t#we can add methods in class\n",
        "\tdef fullname(self):\n",
        "\t\treturn '{} {}'.format(self.first, self.last)\n",
        "\t\t\n",
        "\tdef apply_raise(self):\n",
        "\t\tself.pay = int(self.pay * self.raise_amount)\n",
        "\t\t# incase of self.class_varialbe, we can change the variable for different instances. But if we had used Employee.raise_amount, then we wont' be able to do that.\n",
        "\n",
        "# The two employees are two instances of the class.\n",
        "emp1 = Employee('sunzid', 'hassan', 5000)\n",
        "emp2 = Employee('sarzil', 'hassan', 6000)\n",
        "\n",
        "print(Employee.fullname(emp1))\n",
        "print(emp1.fullname())\n",
        "\n",
        "\"\"\"\n",
        "A (child) class can inherit capabilities of a previous (parent) class, and build on top of it\n",
        "A parent class can have different sub classes\n",
        "\n",
        "class Parent:\n",
        "\tdef __init__(self, age)\n",
        "\tdo this\n",
        "\n",
        "class Child(Parent):\n",
        "\t# no def __init__(self), uses parents one\n",
        "\tcan do everything as parent\n",
        "\talso, can do this\n",
        "\n",
        "o = child(\"Omi\")\n",
        "o.Parent()\n",
        "O.Chld()\n",
        "\"\"\"\n",
        "\n"
      ],
      "execution_count": null,
      "outputs": []
    },
    {
      "cell_type": "markdown",
      "metadata": {
        "id": "rUiFN3kvroFD"
      },
      "source": [
        "**Chapter 11: Regular expressions**"
      ]
    },
    {
      "cell_type": "code",
      "metadata": {
        "id": "8rZXodHXs6g5"
      },
      "source": [
        "\"\"\"\n",
        "^\tMatches the beginning of a line\n",
        "$\tMatches the end of the line\n",
        ".\tMatches any character\n",
        "\\s\tMatches whitespace\n",
        "\\S\tMatches any non-whitespace character\n",
        "*\tRepeats a character zero or more times\n",
        "*?\tRepeats a character zero or more times (non-greedy)\n",
        "+\tRepeats a character one or more times\n",
        "+?\tRepeats a character one or more times (non-greedy)\n",
        "[aeiou]\tMatches a single character in the listed set\n",
        "[^XYZ]\tMatches a single character not in the listed set\n",
        "[a-z0-9]\tThe set of characters can include a range\n",
        "(\tIndicates where string extraction is to start\n",
        ")\tIndicates where string extraction is to end\n",
        "\n",
        "fhand = open('file.txt')\n",
        "for line in fhand:\n",
        "  line = line.rstrip()\n",
        "  if line.startswith('From '):\n",
        "    print(lines)\n",
        "\n",
        "import re\n",
        "fhand = open('file.txt')\n",
        "for line in fhand:\n",
        "  line = line.rstrip()\n",
        "  if re.search('^From:', line): #^means the next character needs to be the first character of the line\n",
        "    print(line)\n",
        "\n",
        "^X.*: '.' means any character, '*' means 0 or more characters - so the entire expression means I'm looking for lines that starts with X, and then has any number of characters, then a ':'\n",
        "^X-\\S+: I'm looking for lines that starts with X-, then more than one '+' non blank characters '\\S', then ':'\n",
        "\n",
        "import re\n",
        "x = 'My 2 favorite numbers are 19 and 42\n",
        "y = re.findall('[0-9]+', x) # '[0-9]' this is a single character that searches for digists, '+' multiple digits\n",
        "print(y) # I'll get back a list: ['2', '19', '42']\n",
        "z = re.findall('[AEIOU]+', x) # find more than one uppercase vowels\n",
        "print(z) # I'll get back empty list\n",
        "\n",
        "? is added to make re not greedy\n",
        "\n",
        "# \\s+@\\s+ : find more than one none blank char, then @, then more than one non blank char - email address\n",
        "\n",
        "# re.findall('^From (\\s+@\\s+)', x): look for 'From email-address, but return just the email-address inside the parenthesis\n",
        "\n",
        "# we'd manage to find @address with double split, with re, it's '@([^ ]*)' - * for many, [^ ] means not starts with blank\n",
        "\n",
        "# '^From .*@([^ ]*)' - Start with From-space, then any number of character up to @, then extract all characters up to space\n",
        "\n",
        "# \\$ means I'm looking for $ in string, not re $\n",
        "\n",
        "import re\n",
        "hand = open('text.txt')\n",
        "numlist = list()\n",
        "for line in hand:\n",
        "  line = line.rstrip()\n",
        "  stuff = re.findall('X-DSPAM-Confidence: ([0-9.]+)', line) # extract all digit and '.'\n",
        "  if len(stuff) != 1: continue # if there are more than 1 numbers, skip the line\n",
        "  num = float(stuff[0])\n",
        "  numlist.append(num)\n",
        "print('Maximum: ', max(numlist))\n",
        "\n",
        "\"\"\""
      ],
      "execution_count": null,
      "outputs": []
    },
    {
      "cell_type": "code",
      "metadata": {
        "id": "7-3Pv1HWeliK"
      },
      "source": [
        "#Regular expression assignment\n",
        "\n",
        "\"\"\"\n",
        "# In this assignment you will read through and parse a file with text and numbers. You will extract all the numbers in the file and compute the sum of the numbers.\n",
        "\n",
        "import re\n",
        "\n",
        "hand = open('regex_sum_42.txt')\n",
        "numlist = list()\n",
        "for line in hand:\n",
        "    num = re.findall('[0-9]+', line)\n",
        "    if len(num) == 0: continue\n",
        "    for number in num:\n",
        "        numlist.append(int(number))\n",
        "\n",
        "print(sum(numlist))\n",
        "\n",
        "\"\"\""
      ],
      "execution_count": null,
      "outputs": []
    },
    {
      "cell_type": "markdown",
      "metadata": {
        "id": "4VR6Mp2Isa5I"
      },
      "source": [
        "**Chapter 12: Networked Tech**\n",
        "\n",
        "Computers connect to internet with ports - ports for connecting to web, email etc."
      ]
    },
    {
      "cell_type": "code",
      "metadata": {
        "id": "7VuXfknIwYxR"
      },
      "source": [
        "\"\"\"\n",
        "# Port and socket is used to connect to site (i.e. 80) or email etc\n",
        "# HTTP is protocol or set of rules through which browser takes data from website\n",
        "# After setting connection, if you send GET request, server will send back header(metadata), and the contents. Then we receive and decode the data\n",
        "\n",
        "\"\"\"\n",
        "import socket\n",
        "mysock = socket.socket(socket.AF_INET, socket.SOCK_STREAM) # we're preparing to connect - this returns an object\n",
        "mysock.connect(('data.pr4e.org', 80)) # we're actually connecting - in that object, we want the host, and the port 80 to which we want to connect\n",
        "cmd = 'GET http://data.pr4e.org/romeo.txt HTTP/1.0\\r\\n\\r\\n'.encode() # .encode() converts Unicode to UTFA\n",
        "mysock.send(cmd)\n",
        "\n",
        "while True:\n",
        "  data = mysock.recv(512) # we'll receive up to 512 characters at a time\n",
        "  if (len(data) < 1): break # break if data length is less than 1\n",
        "  print(data.decode()) # decode from UTFA to unicode\n",
        "mysock.close()\n",
        "\n"
      ],
      "execution_count": null,
      "outputs": []
    }
  ]
}